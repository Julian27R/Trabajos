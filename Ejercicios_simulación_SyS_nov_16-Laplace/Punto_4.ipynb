{
  "nbformat": 4,
  "nbformat_minor": 0,
  "metadata": {
    "colab": {
      "provenance": [],
      "authorship_tag": "ABX9TyOK0DVcaoz55AaZVBwY0mhq",
      "include_colab_link": true
    },
    "kernelspec": {
      "name": "python3",
      "display_name": "Python 3"
    },
    "language_info": {
      "name": "python"
    }
  },
  "cells": [
    {
      "cell_type": "markdown",
      "metadata": {
        "id": "view-in-github",
        "colab_type": "text"
      },
      "source": [
        "<a href=\"https://colab.research.google.com/github/Julian27R/Trabajos/blob/main/Ejercicios_simulaci%C3%B3n_SyS_nov_16-Laplace/Punto_4.ipynb\" target=\"_parent\"><img src=\"https://colab.research.google.com/assets/colab-badge.svg\" alt=\"Open In Colab\"/></a>"
      ]
    },
    {
      "cell_type": "markdown",
      "source": [
        "#**EJERCICIO**\n",
        "\n",
        "4. Fije los valores de los párametros del sistema rlc paralelo, con condiciones iniciales cero, para simular la respuesta subamortiguada, sobreamortiguada, de amortiguamiento critico, oscilatoria e inestable, ante entrada escalón.\n"
      ],
      "metadata": {
        "id": "qoeAq0e1Di2a"
      }
    },
    {
      "cell_type": "markdown",
      "source": [
        "#**SOLUCIÓN**\n",
        "##Circuito RLC Paralelo:\n",
        "* Salida ante una entrada Escalon."
      ],
      "metadata": {
        "id": "U8bqjzPcEm-1"
      }
    },
    {
      "cell_type": "code",
      "source": [
        "import sympy as sym\n",
        "import matplotlib.pyplot as plt\n",
        "import sympy.physics.control as control\n",
        "\n",
        "sym.init_printing()\n",
        "\n",
        "s = sym.symbols('s', complex=True)\n",
        "t, R, L, C, = sym.symbols('t R L C ', positive=True)\n",
        "#Entrada de interés en Laplace\n",
        "X = 1/s # Ajustar según tipo de entrada\n",
        "H=control.TransferFunction(1,(s**2 + s/(R*C) + 1/(L*C))*L*C,s) #Funcion de transferencia con la API de control\n",
        "#Hlc = H/(1+H) #para lazo cerrado\n",
        "\n",
        "Y = H.num * X /H.den#función de transferencia del circuito multiplicada por X(s)\n",
        "#Función de salida\n",
        "Y"
      ],
      "metadata": {
        "colab": {
          "base_uri": "https://localhost:8080/",
          "height": 58
        },
        "id": "RaYLUEXRDwc0",
        "outputId": "f176d0f4-220f-4db8-aa53-9089aaa6a697"
      },
      "execution_count": 1,
      "outputs": [
        {
          "output_type": "execute_result",
          "data": {
            "text/plain": [
              "          1           \n",
              "──────────────────────\n",
              "      ⎛ 2    s     1 ⎞\n",
              "C⋅L⋅s⋅⎜s  + ─── + ───⎟\n",
              "      ⎝     C⋅R   C⋅L⎠"
            ],
            "text/latex": "$\\displaystyle \\frac{1}{C L s \\left(s^{2} + \\frac{s}{C R} + \\frac{1}{C L}\\right)}$"
          },
          "metadata": {},
          "execution_count": 1
        }
      ]
    },
    {
      "cell_type": "markdown",
      "source": [
        "Para simular la respuesta subamortiguada, sobreamortiguada, de amortiguamiento critico, oscilatoria e inestable, ante entrada escalón. Es necesario encontrar la forma canónica SLIT de segundo orden."
      ],
      "metadata": {
        "id": "ZhLVI1FHE4kE"
      }
    },
    {
      "cell_type": "code",
      "source": [
        "s = sym.symbols('s', complex=True)\n",
        "t,R, L, C = sym.symbols('t R L C', positive=True, real=True)\n",
        "\n",
        "#Entrada de interés en Laplace\n",
        "X = 1/s # X(s) = 1/s resp escalón\n",
        "K = 1 #ganancia estática\n",
        "wn = sym.sqrt(1/(C*L)) #frecuencia natural\n",
        "xi = sym.sqrt(C*L) / (2*R*C) #factor amortiguamiento\n",
        "H = K*(wn**2/(s**2 + 2*xi*wn*s + wn**2)) #función de transferencia en lazo cerrado slit 2 orden\n",
        "#Hlc = H/(1+H) #para lazo cerrado\n",
        "H"
      ],
      "metadata": {
        "colab": {
          "base_uri": "https://localhost:8080/",
          "height": 58
        },
        "id": "HqkShqdTGYkd",
        "outputId": "7e082a8d-bb28-4849-8a00-99696bff1e41"
      },
      "execution_count": 19,
      "outputs": [
        {
          "output_type": "execute_result",
          "data": {
            "text/plain": [
              "         1          \n",
              "────────────────────\n",
              "    ⎛ 2    s     1 ⎞\n",
              "C⋅L⋅⎜s  + ─── + ───⎟\n",
              "    ⎝     C⋅R   C⋅L⎠"
            ],
            "text/latex": "$\\displaystyle \\frac{1}{C L \\left(s^{2} + \\frac{s}{C R} + \\frac{1}{C L}\\right)}$"
          },
          "metadata": {},
          "execution_count": 19
        }
      ]
    },
    {
      "cell_type": "markdown",
      "source": [
        "* Respuesta Subamortiguada"
      ],
      "metadata": {
        "id": "BFLCPiJFHeQI"
      }
    },
    {
      "cell_type": "code",
      "source": [
        "#Le damos valores a R, C, L para mostrar la respuesta Subamortiguada\n",
        "sym.init_printing()\n",
        "R = R.subs({R : 1})\n",
        "C = C.subs({C : 0.4})\n",
        "L = L.subs({L : 0.5})\n",
        "xi = sym.sqrt(C*L) / (2*R*C) #factor amortiguamiento\n",
        "xi #'\\tCuando 0 < xi < 1; la respuesta del SLIT es subamortiguada'"
      ],
      "metadata": {
        "colab": {
          "base_uri": "https://localhost:8080/",
          "height": 37
        },
        "id": "gOoN0f-mH609",
        "outputId": "4c1f67eb-3ef6-4aa4-8fb1-e3b926503dee"
      },
      "execution_count": 46,
      "outputs": [
        {
          "output_type": "execute_result",
          "data": {
            "text/plain": [
              "0.559016994374947"
            ],
            "text/latex": "$\\displaystyle 0.559016994374947$"
          },
          "metadata": {},
          "execution_count": 46
        }
      ]
    },
    {
      "cell_type": "code",
      "source": [
        "#Le damos valores a R, C, L para mostrar la respuesta sobreamortiguada\n",
        "R = R.subs({R :1})\n",
        "C = C.subs({C : 1})\n",
        "L = L.subs({L :10})\n",
        "xi = sym.sqrt(C*L) / (2*R*C) #factor amortiguamiento\n",
        "xi #('\\tCuando xi > 1; la respuesta del SLIT es sobreamortiguada')"
      ],
      "metadata": {
        "colab": {
          "base_uri": "https://localhost:8080/",
          "height": 55
        },
        "id": "WdmXUHKoPgBx",
        "outputId": "f22b2b86-2a5d-48e6-ed87-7b6c2fdeb178"
      },
      "execution_count": 47,
      "outputs": [
        {
          "output_type": "execute_result",
          "data": {
            "text/plain": [
              "√10\n",
              "───\n",
              " 2 "
            ],
            "text/latex": "$\\displaystyle \\frac{\\sqrt{10}}{2}$"
          },
          "metadata": {},
          "execution_count": 47
        }
      ]
    },
    {
      "cell_type": "code",
      "source": [
        "#Le damos valores a R, C, L para mostrar la respuesta de amortiguamineto critico\n",
        "R = R.subs({R :1})\n",
        "C = C.subs({C : 1})\n",
        "L = L.subs({L :4})\n",
        "xi = sym.sqrt(C*L) / (2*R*C) #factor amortiguamiento\n",
        "xi #('\\tCuando xi = 1; la respuesta del SLIT es de amortiguamiento critico')"
      ],
      "metadata": {
        "colab": {
          "base_uri": "https://localhost:8080/",
          "height": 37
        },
        "id": "9I80mVllSRJS",
        "outputId": "2c3aee2a-b424-444c-8c53-25f8c08a28f6"
      },
      "execution_count": 48,
      "outputs": [
        {
          "output_type": "execute_result",
          "data": {
            "text/plain": [
              "1"
            ],
            "text/latex": "$\\displaystyle 1$"
          },
          "metadata": {},
          "execution_count": 48
        }
      ]
    },
    {
      "cell_type": "code",
      "source": [
        "#Le damos valores a R, C, L para mostrar la respuesta oscilatoria\n",
        "R = R.subs({R :1})\n",
        "C = C.subs({C : 1})\n",
        "L = L.subs({L : 0})\n",
        "xi = sym.sqrt(C*L) / (2*R*C) #factor amortiguamiento\n",
        "xi #('\\tCuando xi = 0; la respuesta del SLIT es oscilatoria')"
      ],
      "metadata": {
        "colab": {
          "base_uri": "https://localhost:8080/",
          "height": 37
        },
        "id": "4erKS8QcSrU0",
        "outputId": "418cb0f4-640a-45e3-8590-5e34169247c0"
      },
      "execution_count": 49,
      "outputs": [
        {
          "output_type": "execute_result",
          "data": {
            "text/plain": [
              "0"
            ],
            "text/latex": "$\\displaystyle 0$"
          },
          "metadata": {},
          "execution_count": 49
        }
      ]
    },
    {
      "cell_type": "code",
      "source": [
        "#Le damos valores a R, C, L para mostrar la respuesta inestable\n",
        "R = R.subs({R :-1})\n",
        "C = C.subs({C : 1})\n",
        "L = L.subs({L : 1})\n",
        "xi = sym.sqrt(C*L) / (2*R*C) #factor amortiguamiento\n",
        "xi #('\\tCuando xi < 0; la respuesta del SLIT es inestable')"
      ],
      "metadata": {
        "colab": {
          "base_uri": "https://localhost:8080/",
          "height": 51
        },
        "id": "BhIP9kb8TJ7x",
        "outputId": "c6bacc75-6549-4f16-ca3d-af6e08e9f130"
      },
      "execution_count": 52,
      "outputs": [
        {
          "output_type": "execute_result",
          "data": {
            "text/plain": [
              "-1/2"
            ],
            "text/latex": "$\\displaystyle - \\frac{1}{2}$"
          },
          "metadata": {},
          "execution_count": 52
        }
      ]
    }
  ]
}