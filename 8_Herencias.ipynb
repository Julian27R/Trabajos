{
  "nbformat": 4,
  "nbformat_minor": 0,
  "metadata": {
    "colab": {
      "provenance": [],
      "include_colab_link": true
    },
    "kernelspec": {
      "name": "python3",
      "display_name": "Python 3"
    },
    "language_info": {
      "name": "python"
    }
  },
  "cells": [
    {
      "cell_type": "markdown",
      "metadata": {
        "id": "view-in-github",
        "colab_type": "text"
      },
      "source": [
        "<a href=\"https://colab.research.google.com/github/Julian27R/Trabajos/blob/main/8_Herencias.ipynb\" target=\"_parent\"><img src=\"https://colab.research.google.com/assets/colab-badge.svg\" alt=\"Open In Colab\"/></a>"
      ]
    },
    {
      "cell_type": "markdown",
      "source": [
        "# Herencias en clases\n",
        "\n",
        "En programación, las herencias se refieren a la capacidad de una clase (llamada clase derivada o subclase) de heredar propiedades y métodos de otra clase (llamada clase base o superclase).\n",
        "\n",
        "La herencia es un concepto fundamental en la programación orientada a objetos (POO) y permite crear jerarquías de clases, donde las clases derivadas heredan características comunes de la clase base y también pueden agregar sus propias propiedades y métodos específicos.\n",
        "\n",
        "La herencia permite reutilizar el código existente, ya que las clases derivadas pueden aprovechar la funcionalidad implementada en la clase base sin tener que volver a escribirlo. Esto promueve la modularidad, el mantenimiento y la extensibilidad del código."
      ],
      "metadata": {
        "id": "vK6RvvN_QnR6"
      }
    },
    {
      "cell_type": "markdown",
      "source": [
        "### Ejemplo #1\n",
        "\n",
        "Supongamos que estás creando un programa para administrar empleados en una empresa. Tienes una clase base llamada \"Empleado\" y quieres crear una clase derivada llamada \"EmpleadoAsalariado\" que herede de la clase base."
      ],
      "metadata": {
        "id": "4r5En97IRAL5"
      }
    },
    {
      "cell_type": "code",
      "execution_count": 1,
      "metadata": {
        "id": "w7MZ5olnQkUm",
        "colab": {
          "base_uri": "https://localhost:8080/"
        },
        "outputId": "492fcc49-3049-4acb-db7c-0d33aeef0dcf"
      },
      "outputs": [
        {
          "output_type": "stream",
          "name": "stdout",
          "text": [
            "2000\n",
            "3000\n"
          ]
        }
      ],
      "source": [
        "class Empleado:\n",
        "    def __init__(self, nombre, salario):\n",
        "        self.nombre = nombre\n",
        "        self.salario = salario\n",
        "\n",
        "    def obtener_salario(self):\n",
        "        return self.salario\n",
        "\n",
        "class EmpleadoAsalariado(Empleado):\n",
        "    def __init__(self, nombre, salario, bono):\n",
        "        super().__init__(nombre, salario)  # Llama al constructor de la clase base\n",
        "        self.bono = bono\n",
        "\n",
        "    def obtener_salario(self):\n",
        "        return self.salario + self.bono\n",
        "\n",
        "# Creamos una instancia de la clase base\n",
        "empleado1 = Empleado(\"Juan\", 2000)\n",
        "print(empleado1.obtener_salario())  # Output: 2000\n",
        "\n",
        "# Creamos una instancia de la clase derivada\n",
        "empleado2 = EmpleadoAsalariado(\"Pedro\", 2500, 500)\n",
        "print(empleado2.obtener_salario())  # Output: 3000 (salario + bono)"
      ]
    },
    {
      "cell_type": "markdown",
      "source": [
        "En este ejemplo, la clase base \"Empleado\" tiene un constructor que recibe el nombre y el salario del empleado, y un método llamado \"obtener_salario()\" que devuelve el salario.\n",
        "\n",
        "La clase derivada \"EmpleadoAsalariado\" hereda de la clase base \"Empleado\" y agrega un nuevo atributo llamado \"bono\". Además, se anula el método \"obtener_salario()\" de la clase base para incluir el bono en el cálculo.\n",
        "\n",
        "Luego, creamos una instancia de la clase base \"Empleado\" y llamamos al método \"obtener_salario()\", devolviendo el salario básico.\n",
        "\n",
        "Después, creamos una instancia de la clase derivada \"EmpleadoAsalariado\" y llamamos al método \"obtener_salario()\", que devuelve el salario básico más el bono.\n",
        "\n",
        "Este ejemplo simplificado muestra cómo la clase derivada hereda los atributos y métodos de la clase base y puede agregar su propia funcionalidad."
      ],
      "metadata": {
        "id": "8pCtoWwfUQrG"
      }
    },
    {
      "cell_type": "markdown",
      "source": [
        "###Ejemplo #2\n",
        "\n",
        "Clases heredadas de automoviles"
      ],
      "metadata": {
        "id": "6RJac47SURZq"
      }
    },
    {
      "cell_type": "code",
      "source": [
        "class Vehiculo:\n",
        "    def __init__(self, marca, modelo, color):\n",
        "        self.marca = marca\n",
        "        self.modelo = modelo\n",
        "        self.color = color\n",
        "\n",
        "    def acelerar(self):\n",
        "        print(\"El vehículo está acelerando.\")\n",
        "\n",
        "    def frenar(self):\n",
        "        print(\"El vehículo está frenando.\")\n",
        "\n",
        "class Carro(Vehiculo):\n",
        "    def __init__(self, marca, modelo, color, num_puertas):\n",
        "        super().__init__(marca, modelo, color)\n",
        "        self.num_puertas = num_puertas\n",
        "\n",
        "    def abrir_puertas(self):\n",
        "        print(\"Las puertas del carro están abiertas.\")\n",
        "\n",
        "class Autobus(Vehiculo):\n",
        "    def __init__(self, marca, modelo, color, capacidad_pasajeros):\n",
        "        super().__init__(marca, modelo, color)\n",
        "        self.capacidad_pasajeros = capacidad_pasajeros\n",
        "\n",
        "    def subir_pasajeros(self):\n",
        "        print(\"Los pasajeros están subiendo al autobús.\")\n",
        "\n",
        "class Motocicleta(Vehiculo):\n",
        "    def __init__(self, marca, modelo, color, cilindrada):\n",
        "        super().__init__(marca, modelo, color)\n",
        "        self.cilindrada = cilindrada\n",
        "\n",
        "    def encender(self):\n",
        "        print(\"La motocicleta está encendida.\")\n",
        "\n",
        "class Hibrido(Carro):\n",
        "    def __init__(self, marca, modelo, color, num_puertas,modo_electrico):\n",
        "        super().__init__(marca, modelo, color, num_puertas)\n",
        "        self.modo_electrico = False\n",
        "\n",
        "\n",
        "    def activar_modo_electrico(self):\n",
        "        self.modo_electrico = True\n",
        "        print(\"El vehículo híbrido está en modo eléctrico.\")\n",
        "\n",
        "class Camion(Vehiculo):\n",
        "    def __init__(self, marca, modelo, color, capacidad_carga):\n",
        "        super().__init__(marca, modelo, color)\n",
        "        self.capacidad_carga = capacidad_carga\n",
        "\n",
        "    def cargar_mercancia(self):\n",
        "        print(\"Se está cargando la mercancía en el camión.\")"
      ],
      "metadata": {
        "id": "xYt75MD3Yy46"
      },
      "execution_count": 2,
      "outputs": []
    },
    {
      "cell_type": "markdown",
      "source": [
        "En este ejemplo, tenemos una clase base llamada \"Vehiculo\" que contiene atributos y métodos generales que son comunes a todos los vehículos. Luego, tenemos las clases derivadas \"Carro\", \"Autobus\", \"Motocicleta\", \"Hibrido\" y \"Camion\" que heredan de la clase base y añaden atributos y métodos específicos.\n",
        "\n",
        "Cada clase derivada tiene su propio constructor que llama al constructor de la clase base utilizando la función super(). Además, cada clase derivada puede tener sus propios métodos adicionales según las características particulares del tipo de vehículo.\n",
        "\n",
        "Con este ejemplo, puedes crear instancias de los diferentes tipos de vehículos y acceder a sus métodos y atributos heredados. Por ejemplo:"
      ],
      "metadata": {
        "id": "-Gzan4-0duTq"
      }
    },
    {
      "cell_type": "code",
      "source": [
        "carro = Carro(\"Toyota\", \"Corolla\", \"Rojo\", 4)\n",
        "carro.acelerar()\n",
        "carro.abrir_puertas()\n",
        "\n",
        "autobus = Autobus(\"Mercedes\", \"Citaro\", \"Blanco\", 50)\n",
        "autobus.frenar()\n",
        "autobus.subir_pasajeros()\n",
        "\n",
        "motocicleta = Motocicleta(\"Honda\", \"CBR\", \"Negro\", 500)\n",
        "motocicleta.encender()\n",
        "motocicleta.frenar()\n",
        "\n",
        "#hibrido = Hibrido(\"Toyota\", \"Prius\", \"Azul\", 4)\n"
      ],
      "metadata": {
        "colab": {
          "base_uri": "https://localhost:8080/"
        },
        "id": "0MxNgAgyd3b7",
        "outputId": "0b3935e4-b929-4ee5-8994-6a27bee946b0"
      },
      "execution_count": 4,
      "outputs": [
        {
          "output_type": "stream",
          "name": "stdout",
          "text": [
            "El vehículo está acelerando.\n",
            "Las puertas del carro están abiertas.\n",
            "El vehículo está frenando.\n",
            "Los pasajeros están subiendo al autobús.\n",
            "La motocicleta está encendida.\n",
            "El vehículo está frenando.\n"
          ]
        }
      ]
    },
    {
      "cell_type": "markdown",
      "source": [
        "## Ejercicio_1.\n",
        "\n",
        "Crea un sistema de manejo de figuras geométricas utilizando clases y herencia. Debes tener una clase base llamada \"FiguraGeometrica\" con un método abstracto llamado \"calcular_area()\". Luego, crea clases derivadas para diferentes tipos de figuras geométricas, como \"Círculo\", \"Rectángulo\" y \"Triángulo\". Cada clase derivada debe implementar el método \"calcular_area()\" de acuerdo con la fórmula correspondiente para el cálculo del área de esa figura."
      ],
      "metadata": {
        "id": "ZjKccYRmvtN7"
      }
    },
    {
      "cell_type": "markdown",
      "source": [
        "## Ejercicio_2\n",
        "\n",
        "Crea un sistema de reserva de vuelos utilizando clases y herencia. Debes tener una clase base llamada \"Vuelo\" con los siguientes atributos: número de vuelo, origen, destino, y capacidad máxima de pasajeros. Luego, crea una clase derivada llamada \"VueloEconomico\" que herede de la clase base y agregue un atributo adicional llamado \"tarifa\". Además, agrega métodos en ambas clases para mostrar la información del vuelo y realizar una reserva de asientos.\n",
        "\n",
        "La clase base \"Vuelo\" debe tener un método para verificar si hay asientos disponibles y otro para realizar la reserva de un asiento. La clase derivada \"VueloEconomico\" puede tener métodos adicionales para calcular el precio total de la reserva de acuerdo con la tarifa y la cantidad de asientos reservados."
      ],
      "metadata": {
        "id": "VVeP1H2KwHaa"
      }
    },
    {
      "cell_type": "code",
      "source": [
        "#EJERCICIO 1\n",
        "'''Crea un sistema de manejo de figuras geométricas utilizando clases y herencia. Debes tener una clase base llamada\n",
        "FiguraGeometrica\" con un método abstracto llamado \"calcular_area()\". Luego, crea\n",
        " clases derivadas para diferentes tipos de figuras geométricas, como \"Círculo\",\n",
        " \"Rectángulo\" y \"Triángulo\". Cada clase derivada debe implementar el método \"calcular_area()\"\n",
        " de acuerdo con la fórmula correspondiente para el cálculo del área de esa figura.'''\n",
        "\n",
        "import numpy as np\n",
        "from math import sqrt\n",
        "class FiguraGeometrica:\n",
        "  def __init__(self, base, altura):\n",
        "    self.base = base\n",
        "    self.altura = altura\n",
        "\n",
        "class FiguraGeometrica_Conica:\n",
        "  def __init__(self, radio):\n",
        "    self.radio = radio\n",
        "\n",
        "class Triangulo(FiguraGeometrica):\n",
        "  def __init__(self, base, altura):\n",
        "    super().__init__(base, altura)\n",
        "\n",
        "    def CalcularareaT(self):\n",
        "      area = (self.base * self.altura)/2\n",
        "      print(\"El area del Triangulo es de: \", area)\n",
        "\n",
        "class Rectangulo(FiguraGeometrica):\n",
        "  def __init__(self, base, altura):\n",
        "    super().__init__(base, altura)\n",
        "\n",
        "    def CalcularareaR(self):\n",
        "      area = (self.base * self.altura)\n",
        "      print(\"El area del Rectangulo es de: \", area)\n",
        "\n",
        "class Circulo(FiguraGeometrica_Conica):\n",
        "  def __init__(self, radio):\n",
        "    super().__init__(radio)\n",
        "\n",
        "    def CalcularareaC(self):\n",
        "      area = round(np.pi*(self.radio**2),3)\n",
        "      print(\"El area del Circulo es de: \", area)\n",
        "\n",
        "triangulo = Triangulo(20,5)\n",
        "rectangulo = Rectangulo(20,5)\n",
        "circulo = Circulo(4)\n",
        "\n",
        "triangulo.CalcularareaT()\n",
        "rectangulo.CalcularareaR()\n",
        "circulo.CalcularareaC()"
      ],
      "metadata": {
        "colab": {
          "base_uri": "https://localhost:8080/",
          "height": 245
        },
        "id": "E_6_7Z1XOZjJ",
        "outputId": "e295e4bf-654d-46fd-801a-a48076ac57a5"
      },
      "execution_count": 37,
      "outputs": [
        {
          "output_type": "error",
          "ename": "AttributeError",
          "evalue": "ignored",
          "traceback": [
            "\u001b[0;31m---------------------------------------------------------------------------\u001b[0m",
            "\u001b[0;31mAttributeError\u001b[0m                            Traceback (most recent call last)",
            "\u001b[0;32m<ipython-input-37-ecddacf768c0>\u001b[0m in \u001b[0;36m<cell line: 47>\u001b[0;34m()\u001b[0m\n\u001b[1;32m     45\u001b[0m \u001b[0mcirculo\u001b[0m \u001b[0;34m=\u001b[0m \u001b[0mCirculo\u001b[0m\u001b[0;34m(\u001b[0m\u001b[0;36m4\u001b[0m\u001b[0;34m)\u001b[0m\u001b[0;34m\u001b[0m\u001b[0;34m\u001b[0m\u001b[0m\n\u001b[1;32m     46\u001b[0m \u001b[0;34m\u001b[0m\u001b[0m\n\u001b[0;32m---> 47\u001b[0;31m \u001b[0mtriangulo\u001b[0m\u001b[0;34m.\u001b[0m\u001b[0mCalcularareaT\u001b[0m\u001b[0;34m(\u001b[0m\u001b[0;34m)\u001b[0m\u001b[0;34m\u001b[0m\u001b[0;34m\u001b[0m\u001b[0m\n\u001b[0m\u001b[1;32m     48\u001b[0m \u001b[0mrectangulo\u001b[0m\u001b[0;34m.\u001b[0m\u001b[0mCalcularareaR\u001b[0m\u001b[0;34m(\u001b[0m\u001b[0;34m)\u001b[0m\u001b[0;34m\u001b[0m\u001b[0;34m\u001b[0m\u001b[0m\n\u001b[1;32m     49\u001b[0m \u001b[0mcirculo\u001b[0m\u001b[0;34m.\u001b[0m\u001b[0mCalcularareaC\u001b[0m\u001b[0;34m(\u001b[0m\u001b[0;34m)\u001b[0m\u001b[0;34m\u001b[0m\u001b[0;34m\u001b[0m\u001b[0m\n",
            "\u001b[0;31mAttributeError\u001b[0m: 'Triangulo' object has no attribute 'CalcularareaT'"
          ]
        }
      ]
    },
    {
      "cell_type": "code",
      "source": [
        "import numpy as np\n",
        "from math import sqrt\n",
        "\n",
        "class FiguraGeometrica:\n",
        "    def __init__(self, base, altura):\n",
        "      self.base = base\n",
        "      self.altura = altura\n",
        "\n",
        "class FiguraGeometrica_Conica:\n",
        "    def __init__(self, radio):\n",
        "      self.radio = radio\n",
        "\n",
        "\n",
        "class Triangulo(FiguraGeometrica):\n",
        "    def __init__(self, base, altura):\n",
        "      super().__init__(base, altura)\n",
        "\n",
        "    def CalcularAreaT(self):\n",
        "      area = (self.base * self.altura)/2\n",
        "      print('El area del triangulo es: ', area)\n",
        "\n",
        "class Cuadrilatero(FiguraGeometrica):\n",
        "    def __init__(self, base, altura):\n",
        "      super().__init__(base, altura)\n",
        "\n",
        "\n",
        "    def CalcularAreaC(self):\n",
        "      area = self.base*self.altura\n",
        "      print('El area del cuadrilatero es:', area )\n",
        "\n",
        "class Circulo(FiguraGeometrica_Conica):\n",
        "    def __init__(self, radio):\n",
        "      super().__init__(radio)\n",
        "\n",
        "    def CalcularAreaCi(self):\n",
        "      area = round(np.pi*(self.radio**2), 3)\n",
        "      print('El área del circulo es: ', area)\n",
        "\n",
        "triangulo = Triangulo(2,2)\n",
        "cuadrilatero = Cuadrilatero(3,6)\n",
        "circulo = Circulo(8)\n",
        "\n",
        "triangulo.CalcularAreaT()\n",
        "cuadrilatero.CalcularAreaC()\n",
        "circulo.CalcularAreaCi()"
      ],
      "metadata": {
        "colab": {
          "base_uri": "https://localhost:8080/"
        },
        "id": "g5QHT3aGfR5e",
        "outputId": "4e8e55ba-2fc9-4cb3-bec5-0c4c7800e6df"
      },
      "execution_count": 36,
      "outputs": [
        {
          "output_type": "stream",
          "name": "stdout",
          "text": [
            "El area del triangulo es:  2.0\n",
            "El area del cuadrilatero es: 18\n",
            "El área del circulo es:  201.062\n"
          ]
        }
      ]
    },
    {
      "cell_type": "code",
      "source": [
        "import numpy as np\n",
        "\n",
        "class FiguraGeometrica:\n",
        "    def __init__(self, base, altura):\n",
        "      self.base = base\n",
        "      self.altura = altura\n",
        "\n",
        "class FiguraGeometrica_Conica:\n",
        "    def __init__(self, radio):\n",
        "      self.radio = radio\n",
        "\n",
        "class Triangulo(FiguraGeometrica):\n",
        "    def __init__(self, base, altura):\n",
        "      super().__init__(base, altura)\n",
        "\n",
        "    def CalcularAreaT(self):\n",
        "      area = (self.base * self.altura)/2\n",
        "      print('El area del triangulo es : ', area)\n",
        "\n",
        "class Cuadrilatero(FiguraGeometrica):\n",
        "    def __init__(self, base, altura):\n",
        "      super().__init__(base, altura)\n",
        "\n",
        "    def CalcularAreaC(self):\n",
        "      area = self.base*self.altura\n",
        "      print('El area del cuadrilatero es:', area )\n",
        "\n",
        "class Circulo(FiguraGeometrica_Conica):\n",
        "    def __init__(self, radio):\n",
        "      super().__init__(radio)\n",
        "\n",
        "    def CalcularAreaCi(self):\n",
        "      area = round(np.pi*(self.radio**2), 3)\n",
        "      print('El área del circulo es: ', area)\n",
        "\n",
        "triangulo1 = Triangulo(20,5)\n",
        "triangulo2 = Triangulo(10,5)\n",
        "triangulo3 = Triangulo(10,15)\n",
        "cuadrilatero = Cuadrilatero(20,5)\n",
        "circulo = Circulo(4)\n",
        "\n",
        "triangulo1.CalcularAreaT()\n",
        "triangulo2.CalcularAreaT()\n",
        "triangulo3.CalcularAreaT()\n",
        "cuadrilatero.CalcularAreaC()\n",
        "circulo.CalcularAreaCi()"
      ],
      "metadata": {
        "colab": {
          "base_uri": "https://localhost:8080/"
        },
        "id": "y47fOJo5beJl",
        "outputId": "dee93719-009a-4568-8a41-4b5720889d25"
      },
      "execution_count": 24,
      "outputs": [
        {
          "output_type": "stream",
          "name": "stdout",
          "text": [
            "El area del triangulo es :  50.0\n",
            "El area del triangulo es :  25.0\n",
            "El area del triangulo es :  75.0\n",
            "El area del cuadrilatero es: 100\n",
            "El área del circulo es:  50.265\n"
          ]
        }
      ]
    },
    {
      "cell_type": "code",
      "source": [
        "#EJERCICIO 2\n",
        "asientos = [[1,1,1],[1,1,1],[1,1,1]]\n",
        "tarifa = 50000\n",
        "\n",
        "\n",
        "class Vuelo:\n",
        "    def __init__(self, nvuelo, origen, destino, cmpasajeros):\n",
        "      self.nvuelo = nvuelo\n",
        "      self.origen = origen\n",
        "      self.destino = destino\n",
        "      self.cmpasajeros = cmpasajeros\n",
        "\n",
        "    def ocuparAsientos(self):\n",
        "      print('Asientos donde 1 es disponible y 0 es ocupado\\n',asientos)\n",
        "      contador = 0\n",
        "      x = int(input('Ingrese el número de asientos que desea comprar: '))\n",
        "      while contador < x:\n",
        "        fila = int(input('Seleccion una fila sea 0, 1 o 2: '))\n",
        "        columna = int(input('Seleccione una columna de 0, 1 o 2: '))\n",
        "        if asientos[fila][columna] == 1:\n",
        "          asientos[fila][columna] = 0\n",
        "          contador += 1\n",
        "          print('Su asiento esta en la fila: ', fila,'y columna: ',columna)\n",
        "\n",
        "        else:\n",
        "          print('Asiento ocupado')\n",
        "\n",
        "class VueloEconomico(Vuelo):\n",
        "    def __init__(self, nvuelo, origen, destino, cmpasajeros, tarifa):\n",
        "      super().__init__(nvuelo, origen, destino, cmpasajeros)\n",
        "      self.tarifa = tarifa\n",
        "\n",
        "    def ocuparAsientos(self):\n",
        "      print('Asientos donde 1 es disponible y 0 es ocupado\\n',asientos)\n",
        "      x = int(input('Cuantos asientos desea reservar: '))\n",
        "      contador = 0\n",
        "      while contador < x:\n",
        "        fila = int(input('Seleccion una fila sea 0, 1 o 2: '))\n",
        "        columna = int(input('Seleccione una columna de 0, 1 o 2: '))\n",
        "        if asientos[fila][columna] == 1:\n",
        "          asientos[fila][columna] = 0\n",
        "          print('Su asiento esta en la fila: ', fila,'y columna: ',columna)\n",
        "          contador += 1\n",
        "        else:\n",
        "          print('Asiento ocupado')\n",
        "      precio = self.tarifa*x\n",
        "      print('La tarifa total es: ', precio)\n",
        "\n",
        "\n",
        "vuelo = Vuelo(82,'manizales', 'bogota', 9)\n",
        "vuelo.ocuparAsientos()\n",
        "vueloe= VueloEconomico(82,'manizales', 'bogota', 9, tarifa)\n",
        "vueloe.ocuparAsientos()"
      ],
      "metadata": {
        "colab": {
          "base_uri": "https://localhost:8080/",
          "height": 668
        },
        "id": "ywVOOiObbRj9",
        "outputId": "0d57fb20-2380-4ecb-b78e-8e0e28d7f512"
      },
      "execution_count": 33,
      "outputs": [
        {
          "output_type": "stream",
          "name": "stdout",
          "text": [
            "Asientos donde 1 es disponible y 0 es ocupado\n",
            " [[1, 1, 1], [1, 1, 1], [1, 1, 1]]\n",
            "Ingrese el número de asientos que desea comprar: 2\n",
            "Seleccion una fila sea 0, 1 o 2: 0\n",
            "Seleccione una columna de 0, 1 o 2: 1\n",
            "Su asiento esta en la fila:  0 y columna:  1\n",
            "Seleccion una fila sea 0, 1 o 2: 0\n",
            "Seleccione una columna de 0, 1 o 2: 2\n",
            "Su asiento esta en la fila:  0 y columna:  2\n",
            "Asientos donde 1 es disponible y 0 es ocupado\n",
            " [[1, 0, 0], [1, 1, 1], [1, 1, 1]]\n",
            "Cuantos asientos desea reservar: 2\n",
            "Seleccion una fila sea 0, 1 o 2: 2\n",
            "Seleccione una columna de 0, 1 o 2: 1\n",
            "Su asiento esta en la fila:  2 y columna:  1\n",
            "Seleccion una fila sea 0, 1 o 2: 0\n",
            "Seleccione una columna de 0, 1 o 2: 1\n",
            "Asiento ocupado\n"
          ]
        },
        {
          "output_type": "error",
          "ename": "KeyboardInterrupt",
          "evalue": "ignored",
          "traceback": [
            "\u001b[0;31m---------------------------------------------------------------------------\u001b[0m",
            "\u001b[0;31mKeyboardInterrupt\u001b[0m                         Traceback (most recent call last)",
            "\u001b[0;32m<ipython-input-33-82e9584e951a>\u001b[0m in \u001b[0;36m<cell line: 53>\u001b[0;34m()\u001b[0m\n\u001b[1;32m     51\u001b[0m \u001b[0mvuelo\u001b[0m\u001b[0;34m.\u001b[0m\u001b[0mocuparAsientos\u001b[0m\u001b[0;34m(\u001b[0m\u001b[0;34m)\u001b[0m\u001b[0;34m\u001b[0m\u001b[0;34m\u001b[0m\u001b[0m\n\u001b[1;32m     52\u001b[0m \u001b[0mvueloe\u001b[0m\u001b[0;34m=\u001b[0m \u001b[0mVueloEconomico\u001b[0m\u001b[0;34m(\u001b[0m\u001b[0;36m82\u001b[0m\u001b[0;34m,\u001b[0m\u001b[0;34m'manizales'\u001b[0m\u001b[0;34m,\u001b[0m \u001b[0;34m'bogota'\u001b[0m\u001b[0;34m,\u001b[0m \u001b[0;36m9\u001b[0m\u001b[0;34m,\u001b[0m \u001b[0mtarifa\u001b[0m\u001b[0;34m)\u001b[0m\u001b[0;34m\u001b[0m\u001b[0;34m\u001b[0m\u001b[0m\n\u001b[0;32m---> 53\u001b[0;31m \u001b[0mvueloe\u001b[0m\u001b[0;34m.\u001b[0m\u001b[0mocuparAsientos\u001b[0m\u001b[0;34m(\u001b[0m\u001b[0;34m)\u001b[0m\u001b[0;34m\u001b[0m\u001b[0;34m\u001b[0m\u001b[0m\n\u001b[0m",
            "\u001b[0;32m<ipython-input-33-82e9584e951a>\u001b[0m in \u001b[0;36mocuparAsientos\u001b[0;34m(self)\u001b[0m\n\u001b[1;32m     36\u001b[0m       \u001b[0mcontador\u001b[0m \u001b[0;34m=\u001b[0m \u001b[0;36m0\u001b[0m\u001b[0;34m\u001b[0m\u001b[0;34m\u001b[0m\u001b[0m\n\u001b[1;32m     37\u001b[0m       \u001b[0;32mwhile\u001b[0m \u001b[0mcontador\u001b[0m \u001b[0;34m<\u001b[0m \u001b[0mx\u001b[0m\u001b[0;34m:\u001b[0m\u001b[0;34m\u001b[0m\u001b[0;34m\u001b[0m\u001b[0m\n\u001b[0;32m---> 38\u001b[0;31m         \u001b[0mfila\u001b[0m \u001b[0;34m=\u001b[0m \u001b[0mint\u001b[0m\u001b[0;34m(\u001b[0m\u001b[0minput\u001b[0m\u001b[0;34m(\u001b[0m\u001b[0;34m'Seleccion una fila sea 0, 1 o 2: '\u001b[0m\u001b[0;34m)\u001b[0m\u001b[0;34m)\u001b[0m\u001b[0;34m\u001b[0m\u001b[0;34m\u001b[0m\u001b[0m\n\u001b[0m\u001b[1;32m     39\u001b[0m         \u001b[0mcolumna\u001b[0m \u001b[0;34m=\u001b[0m \u001b[0mint\u001b[0m\u001b[0;34m(\u001b[0m\u001b[0minput\u001b[0m\u001b[0;34m(\u001b[0m\u001b[0;34m'Seleccione una columna de 0, 1 o 2: '\u001b[0m\u001b[0;34m)\u001b[0m\u001b[0;34m)\u001b[0m\u001b[0;34m\u001b[0m\u001b[0;34m\u001b[0m\u001b[0m\n\u001b[1;32m     40\u001b[0m         \u001b[0;32mif\u001b[0m \u001b[0masientos\u001b[0m\u001b[0;34m[\u001b[0m\u001b[0mfila\u001b[0m\u001b[0;34m]\u001b[0m\u001b[0;34m[\u001b[0m\u001b[0mcolumna\u001b[0m\u001b[0;34m]\u001b[0m \u001b[0;34m==\u001b[0m \u001b[0;36m1\u001b[0m\u001b[0;34m:\u001b[0m\u001b[0;34m\u001b[0m\u001b[0;34m\u001b[0m\u001b[0m\n",
            "\u001b[0;32m/usr/local/lib/python3.10/dist-packages/ipykernel/kernelbase.py\u001b[0m in \u001b[0;36mraw_input\u001b[0;34m(self, prompt)\u001b[0m\n\u001b[1;32m    849\u001b[0m                 \u001b[0;34m\"raw_input was called, but this frontend does not support input requests.\"\u001b[0m\u001b[0;34m\u001b[0m\u001b[0;34m\u001b[0m\u001b[0m\n\u001b[1;32m    850\u001b[0m             )\n\u001b[0;32m--> 851\u001b[0;31m         return self._input_request(str(prompt),\n\u001b[0m\u001b[1;32m    852\u001b[0m             \u001b[0mself\u001b[0m\u001b[0;34m.\u001b[0m\u001b[0m_parent_ident\u001b[0m\u001b[0;34m,\u001b[0m\u001b[0;34m\u001b[0m\u001b[0;34m\u001b[0m\u001b[0m\n\u001b[1;32m    853\u001b[0m             \u001b[0mself\u001b[0m\u001b[0;34m.\u001b[0m\u001b[0m_parent_header\u001b[0m\u001b[0;34m,\u001b[0m\u001b[0;34m\u001b[0m\u001b[0;34m\u001b[0m\u001b[0m\n",
            "\u001b[0;32m/usr/local/lib/python3.10/dist-packages/ipykernel/kernelbase.py\u001b[0m in \u001b[0;36m_input_request\u001b[0;34m(self, prompt, ident, parent, password)\u001b[0m\n\u001b[1;32m    893\u001b[0m             \u001b[0;32mexcept\u001b[0m \u001b[0mKeyboardInterrupt\u001b[0m\u001b[0;34m:\u001b[0m\u001b[0;34m\u001b[0m\u001b[0;34m\u001b[0m\u001b[0m\n\u001b[1;32m    894\u001b[0m                 \u001b[0;31m# re-raise KeyboardInterrupt, to truncate traceback\u001b[0m\u001b[0;34m\u001b[0m\u001b[0;34m\u001b[0m\u001b[0m\n\u001b[0;32m--> 895\u001b[0;31m                 \u001b[0;32mraise\u001b[0m \u001b[0mKeyboardInterrupt\u001b[0m\u001b[0;34m(\u001b[0m\u001b[0;34m\"Interrupted by user\"\u001b[0m\u001b[0;34m)\u001b[0m \u001b[0;32mfrom\u001b[0m \u001b[0;32mNone\u001b[0m\u001b[0;34m\u001b[0m\u001b[0;34m\u001b[0m\u001b[0m\n\u001b[0m\u001b[1;32m    896\u001b[0m             \u001b[0;32mexcept\u001b[0m \u001b[0mException\u001b[0m \u001b[0;32mas\u001b[0m \u001b[0me\u001b[0m\u001b[0;34m:\u001b[0m\u001b[0;34m\u001b[0m\u001b[0;34m\u001b[0m\u001b[0m\n\u001b[1;32m    897\u001b[0m                 \u001b[0mself\u001b[0m\u001b[0;34m.\u001b[0m\u001b[0mlog\u001b[0m\u001b[0;34m.\u001b[0m\u001b[0mwarning\u001b[0m\u001b[0;34m(\u001b[0m\u001b[0;34m\"Invalid Message:\"\u001b[0m\u001b[0;34m,\u001b[0m \u001b[0mexc_info\u001b[0m\u001b[0;34m=\u001b[0m\u001b[0;32mTrue\u001b[0m\u001b[0;34m)\u001b[0m\u001b[0;34m\u001b[0m\u001b[0;34m\u001b[0m\u001b[0m\n",
            "\u001b[0;31mKeyboardInterrupt\u001b[0m: Interrupted by user"
          ]
        }
      ]
    }
  ]
}