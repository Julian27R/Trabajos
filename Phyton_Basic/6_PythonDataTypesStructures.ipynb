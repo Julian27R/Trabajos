{
  "nbformat": 4,
  "nbformat_minor": 0,
  "metadata": {
    "colab": {
      "provenance": [],
      "include_colab_link": true
    },
    "kernelspec": {
      "name": "python3",
      "display_name": "Python 3"
    },
    "language_info": {
      "name": "python"
    }
  },
  "cells": [
    {
      "cell_type": "markdown",
      "metadata": {
        "id": "view-in-github",
        "colab_type": "text"
      },
      "source": [
        "<a href=\"https://colab.research.google.com/github/Julian27R/Trabajos/blob/main/6_PythonDataTypesStructures.ipynb\" target=\"_parent\"><img src=\"https://colab.research.google.com/assets/colab-badge.svg\" alt=\"Open In Colab\"/></a>"
      ]
    },
    {
      "cell_type": "markdown",
      "source": [
        "##**Lists**\n",
        "\n",
        "In Python, a list is a data structure used to store an ordered collection of elements. It is called \"list\" in English.\n",
        "\n",
        "Lists are very versatile as they can contain elements of different data types such as numbers, strings, booleans, objects, and other lists. They can also be modified, which means that elements can be added, removed, or modified.\n",
        "\n",
        "To create a list in Python, square brackets [] are used.\n"
      ],
      "metadata": {
        "id": "7m2NOuILJwMh"
      }
    },
    {
      "cell_type": "code",
      "execution_count": null,
      "metadata": {
        "colab": {
          "base_uri": "https://localhost:8080/"
        },
        "id": "loCCLXyUJGEf",
        "outputId": "63ce929e-27d4-42fb-8489-ebf935d9122b"
      },
      "outputs": [
        {
          "output_type": "execute_result",
          "data": {
            "text/plain": [
              "['Gerry', 1, 4.4, [0, 2, 3]]"
            ]
          },
          "metadata": {},
          "execution_count": 61
        }
      ],
      "source": [
        "lista1 = ['Gerry',1,4.4,[0,2,3]]\n",
        "lista1"
      ]
    },
    {
      "cell_type": "markdown",
      "source": [
        "I can show this element by element:"
      ],
      "metadata": {
        "id": "_hedGu3gKapT"
      }
    },
    {
      "cell_type": "code",
      "source": [
        "lista2 = lista1[1]\n",
        "lista2"
      ],
      "metadata": {
        "colab": {
          "base_uri": "https://localhost:8080/"
        },
        "id": "3EBTGE_fKed2",
        "outputId": "abb30460-c8bd-42b2-e921-1801f109ab9a"
      },
      "execution_count": null,
      "outputs": [
        {
          "output_type": "execute_result",
          "data": {
            "text/plain": [
              "1"
            ]
          },
          "metadata": {},
          "execution_count": 62
        }
      ]
    },
    {
      "cell_type": "code",
      "source": [
        "lista2 = lista1[-1]\n",
        "lista2"
      ],
      "metadata": {
        "colab": {
          "base_uri": "https://localhost:8080/"
        },
        "id": "GolGrN4lKlIz",
        "outputId": "c67fee40-c737-489c-8033-12bfebcf0b85"
      },
      "execution_count": null,
      "outputs": [
        {
          "output_type": "execute_result",
          "data": {
            "text/plain": [
              "[0, 2, 3]"
            ]
          },
          "metadata": {},
          "execution_count": 63
        }
      ]
    },
    {
      "cell_type": "code",
      "source": [
        "lista2 = lista1[-1][2]\n",
        "lista2"
      ],
      "metadata": {
        "colab": {
          "base_uri": "https://localhost:8080/"
        },
        "id": "OVukUVegK8h5",
        "outputId": "8417ecac-5441-4569-c8b8-05d93eae81b8"
      },
      "execution_count": null,
      "outputs": [
        {
          "output_type": "execute_result",
          "data": {
            "text/plain": [
              "3"
            ]
          },
          "metadata": {},
          "execution_count": 64
        }
      ]
    },
    {
      "cell_type": "markdown",
      "source": [
        "I can delete a element of my list:"
      ],
      "metadata": {
        "id": "E-cwOa5ILNBX"
      }
    },
    {
      "cell_type": "code",
      "source": [
        "del lista1[1]\n",
        "lista1"
      ],
      "metadata": {
        "colab": {
          "base_uri": "https://localhost:8080/"
        },
        "id": "0UYTeLIQLKO5",
        "outputId": "d130b916-0152-48ad-8177-0c3f92f2d8c9"
      },
      "execution_count": null,
      "outputs": [
        {
          "output_type": "execute_result",
          "data": {
            "text/plain": [
              "['Gerry', 4.4, [0, 2, 3]]"
            ]
          },
          "metadata": {},
          "execution_count": 65
        }
      ]
    },
    {
      "cell_type": "code",
      "source": [
        "#I can add a element in the list with command .append, for example:\n",
        "\n",
        "lista1.append(4.5)\n",
        "lista1"
      ],
      "metadata": {
        "colab": {
          "base_uri": "https://localhost:8080/"
        },
        "id": "AyNgXL2nLnYq",
        "outputId": "e2048757-07e8-45e8-a755-89013335cdf7"
      },
      "execution_count": null,
      "outputs": [
        {
          "output_type": "execute_result",
          "data": {
            "text/plain": [
              "['Gerry', 4.4, [0, 2, 3], 4.5]"
            ]
          },
          "metadata": {},
          "execution_count": 66
        }
      ]
    },
    {
      "cell_type": "markdown",
      "source": [
        "##**Tuples**\n",
        "\n",
        "In Python, a tuple is another built-in data type used to store a collection of elements.\n",
        "\n",
        "A tuple is similar to a list in that it can store objects of different data types, but unlike lists, tuples are immutable, meaning they cannot be modified once they are created.\n",
        "\n",
        "Tuples are usually created by enclosing a comma-separated sequence of objects in parentheses ().\n",
        "\n",
        "\n",
        "For example, (1, 2, 'three') is a tuple containing an integer, another integer, and a string. Tuples are often used for fixed data that does not need to be changed, such as a collection of constants or a set of coordinates in a coordinate plane.\n",
        "\n",
        "\n",
        "\n"
      ],
      "metadata": {
        "id": "IDgY8mwnL6VM"
      }
    },
    {
      "cell_type": "code",
      "source": [
        "Tuple = (1,2,3,4,5)\n",
        "Tuple"
      ],
      "metadata": {
        "colab": {
          "base_uri": "https://localhost:8080/"
        },
        "id": "sOihyTYlMXTm",
        "outputId": "73019048-937b-4d60-e998-cad4fd1604db"
      },
      "execution_count": null,
      "outputs": [
        {
          "output_type": "execute_result",
          "data": {
            "text/plain": [
              "(1, 2, 3, 4, 5)"
            ]
          },
          "metadata": {},
          "execution_count": 67
        }
      ]
    },
    {
      "cell_type": "code",
      "source": [
        "Tuple[0]"
      ],
      "metadata": {
        "colab": {
          "base_uri": "https://localhost:8080/"
        },
        "id": "4i09enoPMhYb",
        "outputId": "f5ea4d1f-a8f2-4bb7-cbed-3675d890b141"
      },
      "execution_count": null,
      "outputs": [
        {
          "output_type": "execute_result",
          "data": {
            "text/plain": [
              "1"
            ]
          },
          "metadata": {},
          "execution_count": 68
        }
      ]
    },
    {
      "cell_type": "code",
      "source": [
        "#Tuple[0]=4 #you cannot modified it!"
      ],
      "metadata": {
        "id": "8-mDNlIfMjyD"
      },
      "execution_count": null,
      "outputs": []
    },
    {
      "cell_type": "markdown",
      "source": [
        "##**Sets**\n",
        "\n",
        "In Python, a set is a built-in data type used to store an unordered collection of unique elements. It is similar to a list or a tuple, but unlike those data types, a set cannot contain duplicate values.\n",
        "\n",
        "Sets are created using curly braces {} or by using the set() function. For example, the following code creates a set of integers:"
      ],
      "metadata": {
        "id": "sAtET_vZMmbP"
      }
    },
    {
      "cell_type": "code",
      "source": [
        "my_set = {1, 2, 3, 4,5,5,3} #you cannot store the 5 twice in a set!\n",
        "my_set"
      ],
      "metadata": {
        "colab": {
          "base_uri": "https://localhost:8080/"
        },
        "id": "00IvCp_PND36",
        "outputId": "f34c538f-9cb7-4ae6-dd90-05b7c8ddd7e0"
      },
      "execution_count": null,
      "outputs": [
        {
          "output_type": "execute_result",
          "data": {
            "text/plain": [
              "{1, 2, 3, 4, 5}"
            ]
          },
          "metadata": {},
          "execution_count": 70
        }
      ]
    },
    {
      "cell_type": "markdown",
      "source": [
        "Sets can also be used to perform mathematical set operations such as union, intersection, and difference.\n",
        "\n",
        "For example, given two sets set1 = {1, 2, 3} and set2 = {2, 3, 4}, the union of the two sets can be obtained using the | operator:"
      ],
      "metadata": {
        "id": "6FLcFWCsNI5A"
      }
    },
    {
      "cell_type": "code",
      "source": [
        "set1={1,2,3,4,8}\n",
        "set2={2,3,4}\n",
        "\n",
        "union_set = set1 | set2\n",
        "union_set\n"
      ],
      "metadata": {
        "colab": {
          "base_uri": "https://localhost:8080/"
        },
        "id": "O4ElDKysNJmT",
        "outputId": "50a571f2-d5c3-487f-f573-0bed1b385787"
      },
      "execution_count": null,
      "outputs": [
        {
          "output_type": "execute_result",
          "data": {
            "text/plain": [
              "{1, 2, 3, 4, 8}"
            ]
          },
          "metadata": {},
          "execution_count": 71
        }
      ]
    },
    {
      "cell_type": "markdown",
      "source": [
        "Similarly, the intersection of the two sets can be obtained using the & operator:"
      ],
      "metadata": {
        "id": "4EICJO77NYUx"
      }
    },
    {
      "cell_type": "code",
      "source": [
        "intersection_set = set1 & set2\n",
        "intersection_set\n",
        "\n"
      ],
      "metadata": {
        "colab": {
          "base_uri": "https://localhost:8080/"
        },
        "id": "QxaUxi_8NX9c",
        "outputId": "966bf067-4171-4884-9bff-3e076d78f9b4"
      },
      "execution_count": null,
      "outputs": [
        {
          "output_type": "execute_result",
          "data": {
            "text/plain": [
              "{2, 3, 4}"
            ]
          },
          "metadata": {},
          "execution_count": 72
        }
      ]
    },
    {
      "cell_type": "markdown",
      "source": [
        "And the difference of the two sets can be obtained using the - operator:"
      ],
      "metadata": {
        "id": "L5JlhT_1OQk8"
      }
    },
    {
      "cell_type": "code",
      "source": [
        "difference_set = set1 - set2\n",
        "difference_set"
      ],
      "metadata": {
        "colab": {
          "base_uri": "https://localhost:8080/"
        },
        "id": "RVaE-Y1PORc8",
        "outputId": "a4e039c2-8bf9-41c4-bf51-4fccfebbc63a"
      },
      "execution_count": null,
      "outputs": [
        {
          "output_type": "execute_result",
          "data": {
            "text/plain": [
              "{1, 8}"
            ]
          },
          "metadata": {},
          "execution_count": 73
        }
      ]
    },
    {
      "cell_type": "markdown",
      "source": [
        "##**Dictionaries**\n",
        "\n",
        "In Python, a dictionary is a built-in data structure used to store a collection of key-value pairs. It is sometimes referred to as an associative array, hash table or a map.\n",
        "\n",
        "A dictionary is created using curly braces {} and each key-value pair is separated by a colon (:). For example, the following code creates a dictionary of items and their prices"
      ],
      "metadata": {
        "id": "3tUubrxMOoSB"
      }
    },
    {
      "cell_type": "code",
      "source": [
        "prices = {'apple':0.5,'banana': 0.25, 'orange': 0.75}\n",
        "prices\n",
        "\n",
        "prices['orange']=1\n",
        "\n",
        "prices"
      ],
      "metadata": {
        "colab": {
          "base_uri": "https://localhost:8080/"
        },
        "id": "ubj9Qiv9O4UW",
        "outputId": "32fc337f-ea0c-4cdf-f291-655ef977a8c8"
      },
      "execution_count": null,
      "outputs": [
        {
          "output_type": "execute_result",
          "data": {
            "text/plain": [
              "{'apple': 0.5, 'banana': 0.25, 'orange': 1}"
            ]
          },
          "metadata": {},
          "execution_count": 74
        }
      ]
    },
    {
      "cell_type": "markdown",
      "source": [
        "In this example, 'apple', 'banana', and 'orange' are keys, and 0.5, 0.25, and 0.75 are their corresponding values. The keys in a dictionary must be unique and immutable, while the values can be of any data type and can be duplicated.\n",
        "\n",
        "Values in a dictionary can be accessed by their corresponding keys, as shown in the following example:"
      ],
      "metadata": {
        "id": "Kpc4CDQdPBgJ"
      }
    },
    {
      "cell_type": "code",
      "source": [
        "apple_price = prices['banana']\n",
        "apple_price\n"
      ],
      "metadata": {
        "colab": {
          "base_uri": "https://localhost:8080/"
        },
        "id": "1i4_35S2PNAl",
        "outputId": "aef4d8d7-6c87-4525-9179-fcb8e791e67a"
      },
      "execution_count": null,
      "outputs": [
        {
          "output_type": "execute_result",
          "data": {
            "text/plain": [
              "0.25"
            ]
          },
          "metadata": {},
          "execution_count": 75
        }
      ]
    },
    {
      "cell_type": "markdown",
      "source": [
        "Dictionaries are useful when you need to store and retrieve values by a specific key rather than by their position in a sequence. They are commonly used to represent mappings between items, such as a person's name and their contact information, or a word and its definition."
      ],
      "metadata": {
        "id": "nHbjpbQqPReD"
      }
    },
    {
      "cell_type": "code",
      "source": [
        "prices['banana']"
      ],
      "metadata": {
        "colab": {
          "base_uri": "https://localhost:8080/"
        },
        "id": "e4nTbDtKQGSg",
        "outputId": "d9705414-942f-4dc7-b7a1-bb2d81bbd943"
      },
      "execution_count": null,
      "outputs": [
        {
          "output_type": "execute_result",
          "data": {
            "text/plain": [
              "0.25"
            ]
          },
          "metadata": {},
          "execution_count": 76
        }
      ]
    },
    {
      "cell_type": "markdown",
      "source": [
        "##**Example**\n",
        "\n",
        "Write a function that takes a list of numbers as input and returns a list that contains only the unique numbers from the original list. For example, if the input is [1, 2, 3, 2, 4, 3, 5], the function should return [1, 2, 3, 4, 5]."
      ],
      "metadata": {
        "id": "9CaTksnCTCBk"
      }
    },
    {
      "cell_type": "code",
      "source": [
        "def unique_numbers(nums):\n",
        "    return list(set(nums))#\n",
        "\n",
        "# Example usage\n",
        "nums = [1, 2, 3, 2, 4, 3, 5]\n",
        "print(unique_numbers(nums))"
      ],
      "metadata": {
        "colab": {
          "base_uri": "https://localhost:8080/"
        },
        "id": "TVhPTXtjTKMm",
        "outputId": "f13614f5-ff18-407f-aefa-d79f3a7e929e"
      },
      "execution_count": null,
      "outputs": [
        {
          "output_type": "stream",
          "name": "stdout",
          "text": [
            "[1, 2, 3, 4, 5]\n"
          ]
        }
      ]
    },
    {
      "cell_type": "markdown",
      "source": [
        "##**Example**\n",
        "\n",
        "Write a function that takes a dictionary as input and returns a list of the unique values in the dictionary. For example, if the dictionary is {'a': 1, 'b': 2, 'c': 1, 'd': 3}, the function should return [1, 2, 3]."
      ],
      "metadata": {
        "id": "HRXzajpMTiZj"
      }
    },
    {
      "cell_type": "code",
      "source": [
        "def ex2 (d):\n",
        "  lista = []\n",
        "  for i in d:\n",
        "    if d[i] not in lista:\n",
        "      lista.append(d[i])\n",
        "  return lista\n",
        "\n",
        "dicc ={'a': 1, 'b': 2, 'c': 1, 'd': 3}\n",
        "lis = ex2(dicc)\n",
        "lis"
      ],
      "metadata": {
        "colab": {
          "base_uri": "https://localhost:8080/"
        },
        "id": "s53Nhq7QV8CM",
        "outputId": "d824177a-20e1-431b-80c3-6255e7230e78"
      },
      "execution_count": null,
      "outputs": [
        {
          "output_type": "execute_result",
          "data": {
            "text/plain": [
              "[1, 2, 3]"
            ]
          },
          "metadata": {},
          "execution_count": 78
        }
      ]
    },
    {
      "cell_type": "markdown",
      "source": [
        "##**Exercise_1**\n",
        "\n",
        "Write a function that takes a list of numbers as input and returns the sum of all the odd numbers in the list. For example, if the input is [1, 2, 3, 4, 5, 6], the function should return 9 (which is the sum of 1, 3, and 5)."
      ],
      "metadata": {
        "id": "3MDtAtv-UG5P"
      }
    },
    {
      "cell_type": "markdown",
      "source": [
        "##**Exercise_2**\n",
        "Write a function that takes a list of words as input and returns a dictionary that counts the number of times each word appears in the list. For example, if the input is ['apple', 'banana', 'apple', 'cherry', 'cherry', 'cherry'], the function should return {'apple': 2, 'banana': 1, 'cherry': 3}."
      ],
      "metadata": {
        "id": "kPhBJ5HUUlvN"
      }
    },
    {
      "cell_type": "markdown",
      "source": [
        "Developed by:\n",
        "\n",
        "- Brian Patino Agudelo - bpatinoa@unal.edu.co\n",
        "\n",
        "- Andrés Marino Álvarez Meza - amalvarezme@unal.edu.co\n",
        "\n",
        "- César Germán Castellanos Domínguez - cgcastellanosd@unal.edu.co"
      ],
      "metadata": {
        "id": "9thTok_REswp"
      }
    },
    {
      "cell_type": "code",
      "source": [
        "#EJERICIO 1\n",
        "\n",
        "def suma_imp(lista):\n",
        "  suma = 0\n",
        "  for i in range(cantidad):\n",
        "    if lista[i]%2 == 1:\n",
        "     suma += lista[i]\n",
        "  return suma\n",
        "\n",
        "lista = []\n",
        "cont = 0\n",
        "cantidad = int(input('Ingrese la cantidad de numeros a ingresar en la lista: '))\n",
        "while cont < cantidad:\n",
        "  x = int(input('Ingrese un numero entero: '))\n",
        "  lista.append(x)\n",
        "  cont += 1\n",
        "\n",
        "suma = suma_imp(lista)\n",
        "print('La suma de numeros impares es de : ', suma)"
      ],
      "metadata": {
        "id": "cWV3WymdezoZ",
        "outputId": "d54ec6e1-d27d-43ba-cca9-8402cb9998d2",
        "colab": {
          "base_uri": "https://localhost:8080/"
        }
      },
      "execution_count": null,
      "outputs": [
        {
          "output_type": "stream",
          "name": "stdout",
          "text": [
            "Ingrese la cantidad de numeros a ingresar en la lista: 4\n",
            "Ingrese un numero entero: 3\n",
            "Ingrese un numero entero: 1\n",
            "Ingrese un numero entero: 5\n",
            "Ingrese un numero entero: 3\n",
            "La suma de numeros impares es de :  12\n"
          ]
        }
      ]
    },
    {
      "cell_type": "code",
      "source": [
        "#EJERCICIO 2\n",
        "def Lista_Pal (lista):\n",
        "  conteo_pal = {}\n",
        "  for palabra in lista:\n",
        "    if palabra in conteo_pal:\n",
        "      conteo_pal[palabra] += 1\n",
        "    else:\n",
        "      conteo_pal[palabra] = 1\n",
        "  return conteo_pal\n",
        "\n",
        "lista = []\n",
        "cont = 0\n",
        "cantidad = int(input('Ingrese la cantidad de alimetos a ingresar en la lista: '))\n",
        "while cont < cantidad:\n",
        "  x = str(input('Ingrese el alimento a llevar: '))\n",
        "  lista.append(x)\n",
        "  cont += 1\n",
        "\n",
        "resultado = Lista_Pal(lista)\n",
        "print(resultado)"
      ],
      "metadata": {
        "id": "dhj0bbjpLz9x",
        "outputId": "5d1dce2d-aa8b-4f5a-ef06-0e27568b1698",
        "colab": {
          "base_uri": "https://localhost:8080/"
        }
      },
      "execution_count": null,
      "outputs": [
        {
          "output_type": "stream",
          "name": "stdout",
          "text": [
            "Ingrese la cantidad de alimetos a ingresar en la lista: 4\n",
            "Ingrese el alimento a llevar: manzana\n",
            "Ingrese el alimento a llevar: pera\n",
            "Ingrese el alimento a llevar: pera\n",
            "Ingrese el alimento a llevar: manzana\n",
            "{'manzana': 2, 'pera': 2}\n"
          ]
        }
      ]
    },
    {
      "cell_type": "code",
      "source": [
        "def contar_palabras(lista_palabras):\n",
        "    # Creamos un diccionario vacío para almacenar el conteo de palabras\n",
        "    conteo_palabras = {}\n",
        "\n",
        "    # Iteramos sobre la lista de palabras\n",
        "    for palabra in lista_palabras:\n",
        "        # Si la palabra ya está en el diccionario, aumentamos su conteo en 1\n",
        "        if palabra in conteo_palabras:\n",
        "            conteo_palabras[palabra] += 1\n",
        "        # Si la palabra no está en el diccionario, la agregamos con un conteo de 1\n",
        "        else:\n",
        "            conteo_palabras[palabra] = 1\n",
        "\n",
        "    # Devolvemos el diccionario con el conteo de palabras\n",
        "    return conteo_palabras\n",
        "\n",
        "# Ejemplo de uso\n",
        "lista_palabras = ['manzana', 'plátano', 'manzana', 'cereza', 'cereza', 'cereza']\n",
        "resultado = contar_palabras(lista_palabras)\n",
        "print(resultado)"
      ],
      "metadata": {
        "id": "Pa1g4cClPg4S",
        "outputId": "3b3e9904-bf51-4967-b67a-4587e7239714",
        "colab": {
          "base_uri": "https://localhost:8080/"
        }
      },
      "execution_count": null,
      "outputs": [
        {
          "output_type": "stream",
          "name": "stdout",
          "text": [
            "{'manzana': 2, 'plátano': 1, 'cereza': 3}\n"
          ]
        }
      ]
    }
  ]
}