{
  "nbformat": 4,
  "nbformat_minor": 0,
  "metadata": {
    "colab": {
      "provenance": [],
      "include_colab_link": true
    },
    "kernelspec": {
      "name": "python3",
      "display_name": "Python 3"
    },
    "language_info": {
      "name": "python"
    }
  },
  "cells": [
    {
      "cell_type": "markdown",
      "metadata": {
        "id": "view-in-github",
        "colab_type": "text"
      },
      "source": [
        "<a href=\"https://colab.research.google.com/github/Julian27R/Trabajos/blob/main/7_Clases.ipynb\" target=\"_parent\"><img src=\"https://colab.research.google.com/assets/colab-badge.svg\" alt=\"Open In Colab\"/></a>"
      ]
    },
    {
      "cell_type": "markdown",
      "source": [
        "# Clases en python.\n",
        "\n",
        "Las clases son una forma de organizar y estructurar el código en Python. Pueden contener funciones y variables, lo que las hace muy versátiles. Las clases son una parte fundamental de la programación orientada a objetos (POO).\n",
        "\n",
        "La POO es un paradigma de programación que utiliza objetos para representar entidades del mundo real. Por ejemplo, una clase \"Coche\" podría representar un coche del mundo real, con sus propiedades (marca, modelo, color, etc.) y sus métodos (acelerar, frenar, girar, etc.).\n",
        "\n",
        "\n",
        "En términos simples, una clase en programación es una plantilla o molde que se utiliza para crear objetos. La clase define las propiedades y los comportamientos de los objetos que se crean a partir de ella.\n",
        "\n",
        "**Ejemplo**:\n",
        "\n",
        "Piensa en una clase como si fuera un plano para construir un edificio. El plano especifica cómo debe ser el edificio, incluyendo el número de pisos, el número de habitaciones, el tamaño de las ventanas, etc.\n",
        "\n",
        "De manera similar, una clase define las características y comportamientos que tendrá un objeto. Por ejemplo, si tenemos una clase \"Coche\", podemos definir las propiedades de un coche, como su marca, modelo, color, etc. y los comportamientos que tiene un coche, como acelerar, frenar y girar. Luego, podemos crear múltiples objetos \"coche\" a partir de esta clase, cada uno con sus propias propiedades y comportamientos.\n",
        "\n"
      ],
      "metadata": {
        "id": "hFnAE4eorCHN"
      }
    },
    {
      "cell_type": "markdown",
      "source": [
        "### **Crear una clase**\n",
        "\n",
        "Para crear una clase en Python, usamos la palabra clave \"class\", seguida del nombre de la clase:"
      ],
      "metadata": {
        "id": "E-tNF60K_9b9"
      }
    },
    {
      "cell_type": "code",
      "execution_count": 1,
      "metadata": {
        "id": "hi8DOAlZmPjH",
        "colab": {
          "base_uri": "https://localhost:8080/",
          "height": 140
        },
        "outputId": "0e7ab205-d0e9-4759-9d0a-d51421834ca8"
      },
      "outputs": [
        {
          "output_type": "error",
          "ename": "SyntaxError",
          "evalue": "ignored",
          "traceback": [
            "\u001b[0;36m  File \u001b[0;32m\"<ipython-input-1-0bc96e81d1fc>\"\u001b[0;36m, line \u001b[0;32m1\u001b[0m\n\u001b[0;31m    class Coche:\u001b[0m\n\u001b[0m                ^\u001b[0m\n\u001b[0;31mSyntaxError\u001b[0m\u001b[0;31m:\u001b[0m incomplete input\n"
          ]
        }
      ],
      "source": [
        "class Coche:"
      ]
    },
    {
      "cell_type": "markdown",
      "source": [
        "Dentro de la clase, podemos definir variables y funciones. Las variables se llaman \"atributos\" y las funciones se llaman \"métodos\"."
      ],
      "metadata": {
        "id": "aTnx3vjGAIh7"
      }
    },
    {
      "cell_type": "markdown",
      "source": [
        "#### **Atributos**\n",
        "\n",
        "Los atributos son variables que pertenecen a una clase. Por ejemplo, en una clase \"Coche\", los atributos podrían ser \"marca\", \"modelo\" y \"color\". Para definir un atributo, lo hacemos dentro de la clase, pero fuera de cualquier método:"
      ],
      "metadata": {
        "id": "DT2TvFHxAJlz"
      }
    },
    {
      "cell_type": "code",
      "source": [
        "class Coche:\n",
        "    marca = \"Toyota\"\n",
        "    modelo = \"Corolla\"\n",
        "    color = \"Rojo\""
      ],
      "metadata": {
        "id": "sfC5pdD7ANuq"
      },
      "execution_count": 10,
      "outputs": []
    },
    {
      "cell_type": "markdown",
      "source": [
        "#### **Métodos**\n",
        "\n",
        "Los métodos son funciones que pertenecen a una clase. Por ejemplo, en una clase \"Coche\", los métodos podrían ser \"acelerar\", \"frenar\" y \"girar\". Para definir un método, lo hacemos dentro de la clase:\n",
        "\n"
      ],
      "metadata": {
        "id": "1TDchxG8ASQD"
      }
    },
    {
      "cell_type": "code",
      "source": [
        "class Coche:\n",
        "    marca = \"Toyota\"\n",
        "    modelo = \"Corolla\"\n",
        "    color = \"Rojo\"\n",
        "\n",
        "    def acelerar(self):\n",
        "        print(\"El coche está acelerando\")\n",
        "\n",
        "    def frenar(self):\n",
        "        print(\"El coche está frenando\")\n",
        "\n",
        "    def girar(self, direccion):\n",
        "        print(\"El coche está girando hacia \" + direccion)"
      ],
      "metadata": {
        "id": "q33frF1wAX9C"
      },
      "execution_count": 11,
      "outputs": []
    },
    {
      "cell_type": "markdown",
      "source": [
        "**Nota**: El primer parámetro de un método siempre es \"self\". Este parámetro hace referencia al objeto que se está creando. Por ejemplo, si creamos un objeto \"coche\" a partir de la clase \"Coche\", al llamar al método \"acelerar\", el objeto \"coche\" se pasará automáticamente como primer parámetro."
      ],
      "metadata": {
        "id": "o41PexstAdY6"
      }
    },
    {
      "cell_type": "markdown",
      "source": [
        "### **Crear un objeto**\n",
        "\n",
        "Para crear un objeto a partir de una clase, simplemente hacemos lo siguiente:"
      ],
      "metadata": {
        "id": "hnRv4ZMtAgt7"
      }
    },
    {
      "cell_type": "code",
      "source": [
        "coche = Coche()"
      ],
      "metadata": {
        "id": "4TlvhlD1Alrs"
      },
      "execution_count": 4,
      "outputs": []
    },
    {
      "cell_type": "markdown",
      "source": [
        "Esto crea un objeto \"coche\" a partir de la clase \"Coche\". Podemos acceder a los atributos y métodos del objeto de la siguiente manera:"
      ],
      "metadata": {
        "id": "fMCPalavAm-D"
      }
    },
    {
      "cell_type": "code",
      "source": [
        "print(coche.marca)\n",
        "print(coche.modelo)\n",
        "print(coche.color)\n",
        "\n",
        "coche.acelerar()\n",
        "coche.frenar()\n",
        "coche.girar(\"izquierda\")"
      ],
      "metadata": {
        "id": "HZAkrbk7Aoti",
        "colab": {
          "base_uri": "https://localhost:8080/"
        },
        "outputId": "88c64259-074f-4dcf-bbcb-0635689e8b64"
      },
      "execution_count": 5,
      "outputs": [
        {
          "output_type": "stream",
          "name": "stdout",
          "text": [
            "Toyota\n",
            "Corolla\n",
            "Rojo\n",
            "El coche está acelerando\n",
            "El coche está frenando\n",
            "El coche está girando hacia izquierda\n"
          ]
        }
      ]
    },
    {
      "cell_type": "markdown",
      "source": [
        "### Ejemplo_1\n",
        "\n",
        "En este ejemplo, podríamos crear una clase llamada \"Perro\" que tenga atributos como nombre, raza, edad, tamaño, y métodos como ladrar, correr, morder, etc."
      ],
      "metadata": {
        "id": "TR-xIdH1AqQL"
      }
    },
    {
      "cell_type": "code",
      "source": [
        "class Perro:\n",
        "    def __init__(self, nombre, raza, edad, tamaño):\n",
        "        self.nombre = nombre\n",
        "        self.raza = raza\n",
        "        self.edad = edad\n",
        "        self.tamaño = tamaño\n",
        "\n",
        "    def ladrar(self):\n",
        "        print(f\"{self.nombre} está ladrando.\")\n",
        "\n",
        "    def correr(self):\n",
        "        print(f\"{self.nombre} está corriendo.\")\n",
        "\n",
        "    def morder(self):\n",
        "        print(f\"{self.nombre} está mordiendo.\")"
      ],
      "metadata": {
        "id": "Rk7z54NkA9OK"
      },
      "execution_count": 6,
      "outputs": []
    },
    {
      "cell_type": "markdown",
      "source": [
        "En este ejemplo, la función '__init__' es el constructor de la clase, que se utiliza para inicializar los atributos de la clase. Luego, se definen los métodos ladrar, correr y morder que describen los comportamientos que puede tener un perro.\n",
        "\n",
        "Podemos crear objetos de la clase \"Perro\" de la siguiente manera:"
      ],
      "metadata": {
        "id": "KLr8hp8oA6ai"
      }
    },
    {
      "cell_type": "code",
      "source": [
        "perro1 = Perro(\"Fido\", \"Labrador\", 3, \"Grande\")\n",
        "perro2 = Perro(\"Toby\", \"Chihuahua\", 2, \"Pequeño\")"
      ],
      "metadata": {
        "id": "N2HsvjXhA-jB"
      },
      "execution_count": 7,
      "outputs": []
    },
    {
      "cell_type": "markdown",
      "source": [
        "Cada objeto creado a partir de la clase \"Perro\" tendrá sus propios atributos y comportamientos. Por ejemplo, podemos llamar al método ladrar del objeto perro1 de la siguiente manera"
      ],
      "metadata": {
        "id": "fQEU8p17Cayg"
      }
    },
    {
      "cell_type": "code",
      "source": [
        "perro1.ladrar()"
      ],
      "metadata": {
        "id": "rhS8cNz8Calx",
        "outputId": "1b7c5b72-cbb8-4d99-81a5-8069d8a63b16",
        "colab": {
          "base_uri": "https://localhost:8080/"
        }
      },
      "execution_count": 8,
      "outputs": [
        {
          "output_type": "stream",
          "name": "stdout",
          "text": [
            "Fido está ladrando.\n"
          ]
        }
      ]
    },
    {
      "cell_type": "markdown",
      "source": [
        "### Ejercicio_2\n",
        "\n",
        "Supongamos que estás construyendo un sistema de tienda en línea en Python. El sistema necesita manejar muchos productos diferentes, cada uno con sus propias propiedades como nombre, descripción, precio, inventario, etc. También necesita manejar diferentes clientes y sus órdenes de compra."
      ],
      "metadata": {
        "id": "tDvFelEXCtPB"
      }
    },
    {
      "cell_type": "markdown",
      "source": [
        "**¿Cómo podemos hacerlo?**\n",
        "\n",
        "Por ejemplo, podríamos crear una clase \"Producto\" que tenga atributos como nombre, descripción, precio, inventario, etc., y métodos para agregar y eliminar productos del inventario.\n",
        "\n",
        "De manera similar, podríamos crear una clase \"Cliente\" que tenga atributos como nombre, dirección de correo electrónico, historial de compras, etc., y métodos para realizar pedidos y revisar su historial de compras.\n",
        "\n",
        "Finalmente, podríamos crear una clase \"Orden\" que tenga atributos como los productos que se compraron, la cantidad, el costo total, etc., y métodos para confirmar la orden y actualizar el inventario.\n"
      ],
      "metadata": {
        "id": "WBaNntfvDcnQ"
      }
    },
    {
      "cell_type": "code",
      "source": [
        "class Producto:\n",
        "    def __init__(self, nombre, descripcion, precio, inventario):\n",
        "        self.nombre = nombre\n",
        "        self.descripcion = descripcion\n",
        "        self.precio = precio\n",
        "        self.inventario = inventario\n",
        "\n",
        "    def agregar_inventario(self, cantidad):\n",
        "        self.inventario += cantidad\n",
        "\n",
        "    def eliminar_inventario(self, cantidad):\n",
        "        self.inventario -= cantidad"
      ],
      "metadata": {
        "id": "fPeeKFK3Dil2"
      },
      "execution_count": 12,
      "outputs": []
    },
    {
      "cell_type": "markdown",
      "source": [
        "En este ejemplo, la función __init__ es el constructor de la clase \"Producto\" y se utiliza para inicializar los atributos de la clase. Los métodos agregar_inventario y eliminar_inventario se utilizan para agregar o eliminar productos del inventario.\n",
        "\n",
        "Con estas clases, podemos manejar fácilmente la información de los productos, los clientes y las órdenes de compra en nuestro sistema de tienda en línea"
      ],
      "metadata": {
        "id": "xxxNYz0FDoUf"
      }
    },
    {
      "cell_type": "markdown",
      "source": [
        "## Ejercicios\n",
        "\n",
        "1. Crea una clase \"Persona\" que tenga atributos como nombre, edad, género y métodos para presentarse y saludar a otras personas.\n",
        "\n",
        "2. Crea una clase \"Coche\" que tenga atributos como marca, modelo, año, kilometraje y métodos para arrancar, acelerar y frenar.\n",
        "\n",
        "3. Crea una clase \"Rectángulo\" que tenga atributos como longitud y ancho y métodos para calcular el área y el perímetro.\n",
        "\n",
        "4. Crea una clase \"Banco\" que tenga atributos como nombre, dirección y métodos para abrir una cuenta, depositar dinero, retirar dinero y revisar el saldo.\n",
        "\n",
        "5. Crea una clase \"Estudiante\" que tenga atributos como nombre, edad, promedio y métodos para estudiar, hacer tareas y presentar exámenes."
      ],
      "metadata": {
        "id": "laT0U1q4D0eP"
      }
    },
    {
      "cell_type": "code",
      "source": [
        "#EJERCICIO 1\n",
        "class Persona:\n",
        "\n",
        "  Nombre = str(input(\"Digite su nombre: \"))\n",
        "  Edad = int(input(\"Digite su edad: \"))\n",
        "  Genero = str(input(\"Digite su genero: \"))\n",
        "\n",
        "  def Saludar(self):\n",
        "        print(\"\\nHola a todos\")\n",
        "\n",
        "  def Presentar(self):\n",
        "        print(\"Acontinuacion me presentare:\")\n",
        "\n",
        "persona = Persona()\n",
        "\n",
        "persona.Saludar()\n",
        "persona.Presentar()\n",
        "Presentacion = Persona ()\n",
        "print(f\"\\nMi nombre es {Presentacion.Nombre}, tengo {Presentacion.Edad} años y soy de genero {Presentacion.Genero}\")"
      ],
      "metadata": {
        "id": "xnh8KjtgG-2A",
        "outputId": "1e2a6b6b-1175-4fd3-98ae-ce92634da6f1",
        "colab": {
          "base_uri": "https://localhost:8080/"
        }
      },
      "execution_count": 16,
      "outputs": [
        {
          "output_type": "stream",
          "name": "stdout",
          "text": [
            "Digite su nombre: Julian\n",
            "Digite su edad: 19\n",
            "Digite su genero: Masculino\n",
            "\n",
            "Hola a todos\n",
            "Acontinuacion me presentare:\n",
            "\n",
            "Mi nombre es: Julian, tengo 19 años y soy de genero Masculino\n"
          ]
        }
      ]
    },
    {
      "cell_type": "code",
      "source": [
        "#EJERCICIO 2\n",
        "class Coche:\n",
        "\n",
        "  Marca = str(input(\"Digite la marca de su vehiculo: \"))\n",
        "  Modelo = int(input(\"Digite el modelo de su vehiculo: \"))\n",
        "  Año = int(input(\"Digite el año en el que adquirio su vehivulo: \"))\n",
        "  Kilometraje = int(input(\"Digite el Kilometraje de su vehiculo: \"))\n",
        "\n",
        "  def Arrancar(self):\n",
        "        print(\"\\nSu vehiculo ha arrancado\")\n",
        "\n",
        "  def Acelerar(self):\n",
        "        print(\"Su vehiculo ha acelerado\")\n",
        "\n",
        "  def Frenar(self):\n",
        "        print(\"Su vehiculo ha frenado\")\n",
        "\n",
        "coche = Coche()\n",
        "\n",
        "coche.Arrancar()\n",
        "coche.Acelerar()\n",
        "coche.Frenar()\n",
        "Presentacion = Coche ()\n",
        "print(f\"\\nSu Coche es de marca {Presentacion.Marca}, su modelo es del año {Presentacion.Modelo}, usted lo adquirio en el año {Presentacion.Año} y su kilometraje actualmente es de {Presentacion.Kilometraje}\")"
      ],
      "metadata": {
        "id": "daf3uWVfSMwc",
        "outputId": "d4167a4d-fcca-45e1-9716-53e1be02dd7b",
        "colab": {
          "base_uri": "https://localhost:8080/"
        }
      },
      "execution_count": 17,
      "outputs": [
        {
          "output_type": "stream",
          "name": "stdout",
          "text": [
            "Digite la marca de su vehiculo: Chevrolet\n",
            "Digite el modelo de su vehiculo: 2019\n",
            "Digite el que adquirio su vehivulo: 2018\n",
            "Digite el Kilometraje de su vehiculo: 5500\n",
            "\n",
            "Su vehiculo ah arrancado\n",
            "Su vehiculo ah acelerado\n",
            "Su vehiculo ah frenado\n",
            "\n",
            "Su Coche es de marca Chevrolet, su modelo es del año 2019, usted lo adquirio en el año 2018 y su kilometraje actualmente es de 5500\n"
          ]
        }
      ]
    },
    {
      "cell_type": "code",
      "source": [
        "#EJERCICIO 3 Crea una clase \"Rectángulo\" que tenga atributos como longitud y ancho y métodos para calcular el área y el perímetro.\n",
        "class Rectangulo:\n",
        "\n",
        "  def __init__(self, Longitud, Ancho):\n",
        "        self.Longitud = Longitud\n",
        "        self.Ancho = Ancho\n",
        "\n",
        "  def Area(self):\n",
        "    area = self.Longitud * self.Ancho\n",
        "    print(\"\\nEl area de su rectangulo es de: \",area)\n",
        "\n",
        "  def Perimetro(self):\n",
        "    perimetro = 2*(self.Longitud+ self.Ancho)\n",
        "    print(\"El perimetro de su triangulo es de: \",perimetro)\n",
        "\n",
        "Longitud = int(input(\"Digite la longitud del rectangulo: \"))\n",
        "Ancho = int(input(\"Digite el ancho del rectangulo: \"))\n",
        "\n",
        "rectangulo = Rectangulo(Longitud,Ancho)\n",
        "rectangulo.Area()\n",
        "rectangulo.Perimetro()"
      ],
      "metadata": {
        "id": "X3sg8LDeVhTe",
        "outputId": "3766b818-4485-4df0-ffab-1f7238070943",
        "colab": {
          "base_uri": "https://localhost:8080/"
        }
      },
      "execution_count": 29,
      "outputs": [
        {
          "output_type": "stream",
          "name": "stdout",
          "text": [
            "Digite la longitud del rectangulo: 5\n",
            "Digite el ancho del rectangulo: 3\n",
            "\n",
            "El area de su rectangulo es de:  15\n",
            "El perimetro de su triangulo es de:  16\n"
          ]
        }
      ]
    },
    {
      "cell_type": "code",
      "source": [
        "#EJERCICIO 4 Crea una clase \"Banco\" que tenga atributos como nombre, dirección y métodos para abrir una cuenta, depositar dinero, retirar dinero y revisar el saldo.\n",
        "class Banco:\n",
        "    def __init__(self,nombre,direccion):\n",
        "      self.nombre = nombre\n",
        "      self.direccion = direccion\n",
        "      acum = 0\n",
        "      print(\"\\t\\t\\tBienvenido al Banco de Manizales\")\n",
        "\n",
        "    def abrir_cuenta(self):\n",
        "      nombre_usuario = str(input(\"\\nIngrese su nombre: \"))\n",
        "      edad = int(input('Ingrese su edad: '))\n",
        "      cc = int(input(\"Ingrese su numero de documento: \"))\n",
        "      self.acum = 0\n",
        "\n",
        "\n",
        "    def depositar_d(self):\n",
        "      cantidad = int(input(\"Digite la cantidad de dinero a ingresar: \"))\n",
        "      self.acum += cantidad\n",
        "      print(\"La cantidad de dinero ingresado es de : \",cantidad)\n",
        "\n",
        "    def retirar_d(self):\n",
        "      dinero_retirado = int(input(\"Ingrese la cantidad de dinero a retirar: \"))\n",
        "      if self.acum < dinero_retirado:\n",
        "        print(\"Error, su saldo es Insfuciente\")\n",
        "      else :\n",
        "        self.acum -= dinero_retirado\n",
        "        print(\"La cantida de dinero retirado es de: \",dinero_retirado)\n",
        "\n",
        "    def Revisar_Saldo(self):\n",
        "      print(\"Su saldo es de: \",self.acum)\n",
        "\n",
        "\n",
        "banco = Banco('BANCO_MANIZALES','B/ENEA')\n",
        "banco.abrir_cuenta()\n",
        "banco.depositar_d()\n",
        "banco.retirar_d()\n",
        "banco.Revisar_Saldo()"
      ],
      "metadata": {
        "id": "cp6nnpBXc2ZB",
        "outputId": "d69d949c-a497-47fb-df73-9c6bd1d4b124",
        "colab": {
          "base_uri": "https://localhost:8080/"
        }
      },
      "execution_count": 49,
      "outputs": [
        {
          "output_type": "stream",
          "name": "stdout",
          "text": [
            "\t\t\tBienvenido al Banco de Manizales\n",
            "\n",
            "Ingrese su nombre: julian\n",
            "Ingrese su edad: 18\n",
            "Ingrese su numero de documento: 1193577237\n",
            "Digite la cantidad de dinero a ingresar: 50000\n",
            "La cantidad de dinero ingresado es de :  50000\n",
            "Ingrese la cantidad de dinero a retirar: 50000\n",
            "La cantida de dinero retirado es de:  50000\n",
            "Su saldo es de:  0\n"
          ]
        }
      ]
    },
    {
      "cell_type": "code",
      "source": [
        "#EJERCICIO 5 Crea una clase \"Estudiante\" que tenga atributos como nombre, edad, promedio y métodos para estudiar, hacer tareas y presentar exámenes.\n",
        "class Estudiante:\n",
        "  def __init__(self, nombre, edad, promedio):\n",
        "      self.nombre = nombre\n",
        "      self.edad = edad\n",
        "      self.promedio = promedio\n",
        "\n",
        "\n",
        "  def estudiar(self):\n",
        "    horas_estudio = int(input(\"\\nIngrese el numero de horas a estudiar: \"))\n",
        "    print(f\"{self.nombre} ha estado estudiando durante {horas_estudio} horas.\")\n",
        "\n",
        "  def hacer_tareas(self):\n",
        "    tarea = str(input(\"\\nIngrese el nombre de la tarea que esta realizando: \"))\n",
        "    print(f\"{self.nombre} ha estado haciendo la tarea de {tarea}\")\n",
        "\n",
        "  def presentar_examen (self):\n",
        "    materia = str(input(\"\\nIngrese el nombre de la materia que esta presentando el examen: \"))\n",
        "    print (f\"Y {self.nombre} esta presentando el examen de {materia}\")\n",
        "\n",
        "nombre = str(input(\"Ingrese su nombre: \"))\n",
        "edad = int(input(\"Ingrese su edad: \"))\n",
        "promedio = float(input(\"Ingrese su promedio: \"))\n",
        "estudiante = Estudiante(nombre, edad, promedio)\n",
        "\n",
        "estudiante.estudiar()\n",
        "estudiante.hacer_tareas()\n",
        "estudiante.presentar_examen()"
      ],
      "metadata": {
        "id": "FcnQKP9IutNZ",
        "outputId": "6bd7fd8d-791c-425e-8693-a88e8365b584",
        "colab": {
          "base_uri": "https://localhost:8080/"
        }
      },
      "execution_count": 63,
      "outputs": [
        {
          "output_type": "stream",
          "name": "stdout",
          "text": [
            "Ingrese su nombre: Julian\n",
            "Ingrese su edad: 19\n",
            "Ingrese su promedio: 4.1\n",
            "\n",
            "Ingrese el numero de horas a estudiar: 3\n",
            "Julian ha estado estudiando durante 3 horas.\n",
            "\n",
            "Ingrese el nombre de la tarea que esta realizando: señales\n",
            "Julian ha estado haciendo la tarea de señales\n",
            "\n",
            "Ingrese el nombre de la materia que esta presentando el examen: sistemas\n",
            "Y Julian esta presentando el examen de sistemas\n"
          ]
        }
      ]
    }
  ]
}