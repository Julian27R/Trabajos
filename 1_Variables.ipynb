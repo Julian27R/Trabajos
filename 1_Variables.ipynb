{
  "nbformat": 4,
  "nbformat_minor": 0,
  "metadata": {
    "colab": {
      "provenance": [],
      "include_colab_link": true
    },
    "kernelspec": {
      "name": "python3",
      "display_name": "Python 3"
    },
    "language_info": {
      "name": "python"
    }
  },
  "cells": [
    {
      "cell_type": "markdown",
      "metadata": {
        "id": "view-in-github",
        "colab_type": "text"
      },
      "source": [
        "<a href=\"https://colab.research.google.com/github/Julian27R/Trabajos/blob/main/1_Variables.ipynb\" target=\"_parent\"><img src=\"https://colab.research.google.com/assets/colab-badge.svg\" alt=\"Open In Colab\"/></a>"
      ]
    },
    {
      "cell_type": "markdown",
      "source": [
        "\n",
        "#Introduction to Python Notebooks - Google Colab\n",
        "\n",
        "\n",
        "\n"
      ],
      "metadata": {
        "id": "CY3REa3O8ldU"
      }
    },
    {
      "cell_type": "markdown",
      "source": [
        "In Python, you don't have to declare the data type for variables like in other programming languages. When you assign a value to a variable, Python automatically determines its data type based on the assigned value. However, the basic data types in Python are as follows:\n",
        "\n",
        "1. Integer (int): Represents whole numbers without decimals, such as 5, -10, or 0.\n",
        "\n",
        "2. Float: Represents numbers with decimal points, such as 3.14, -2.5, or 0.0.\n",
        "\n",
        "3. String (str): Represents a sequence of characters enclosed in single quotes ('') or double quotes (\"\"). For example, \"Hello, World!\" or 'Python'.\n",
        "\n",
        "4. Boolean (bool): Represents either True or False. It is used for logical operations and conditional statements.\n",
        "\n",
        "5. List: Represents an ordered collection of items enclosed in square brackets ([]). Lists can contain elements of different data types and are mutable (modifiable).\n",
        "\n",
        "6. Tuple: Similar to lists, tuples are also ordered collections of items, but they are enclosed in parentheses (()). Tuples are immutable (cannot be modified).\n",
        "\n",
        "7. Dictionary (dict): Represents a collection of key-value pairs enclosed in curly braces ({}). Each value is associated with a unique key, allowing fast retrieval of values.\n",
        "\n",
        "8. Set: Represents an unordered collection of unique elements enclosed in curly braces ({}). Sets are useful for eliminating duplicate values and performing mathematical set operations.\n",
        "\n",
        "These are the basic data types in Python, and they provide the foundation for more complex data structures and objects."
      ],
      "metadata": {
        "id": "qePyAGJG8sZF"
      }
    },
    {
      "cell_type": "code",
      "source": [
        "a = 2  # Integer type\n",
        "b = a + 3\n",
        "\n",
        "f = 0.176  # Float type\n",
        "\n",
        "condition = True  # Boolean type\n",
        "\n",
        "s = \"Hello\"  # String type"
      ],
      "metadata": {
        "id": "rSWRG-M_9BQr"
      },
      "execution_count": null,
      "outputs": []
    },
    {
      "cell_type": "code",
      "source": [
        "type(s) #type function print the variable type"
      ],
      "metadata": {
        "colab": {
          "base_uri": "https://localhost:8080/"
        },
        "id": "2kGCqjPnAhYg",
        "outputId": "74d167d5-d361-4b87-83b0-67dabc6ccd4a"
      },
      "execution_count": null,
      "outputs": [
        {
          "output_type": "execute_result",
          "data": {
            "text/plain": [
              "str"
            ]
          },
          "metadata": {},
          "execution_count": 2
        }
      ]
    },
    {
      "cell_type": "code",
      "source": [
        "type(b)"
      ],
      "metadata": {
        "colab": {
          "base_uri": "https://localhost:8080/"
        },
        "id": "Jcif8WDhBWJ3",
        "outputId": "23d0b9d0-f219-425d-aa6f-8ceea6ce19a6"
      },
      "execution_count": null,
      "outputs": [
        {
          "output_type": "execute_result",
          "data": {
            "text/plain": [
              "int"
            ]
          },
          "metadata": {},
          "execution_count": 3
        }
      ]
    },
    {
      "cell_type": "code",
      "source": [
        "type(f+a)"
      ],
      "metadata": {
        "colab": {
          "base_uri": "https://localhost:8080/"
        },
        "id": "X7UjciSnBAdL",
        "outputId": "9d25b35d-03d0-40c3-8bcc-ec620d8c2f4f"
      },
      "execution_count": null,
      "outputs": [
        {
          "output_type": "execute_result",
          "data": {
            "text/plain": [
              "float"
            ]
          },
          "metadata": {},
          "execution_count": 4
        }
      ]
    },
    {
      "cell_type": "code",
      "source": [
        "type(condition)"
      ],
      "metadata": {
        "colab": {
          "base_uri": "https://localhost:8080/"
        },
        "id": "vPQm2VaBBCni",
        "outputId": "d0f0af51-bbef-4e8b-aa54-d18000625265"
      },
      "execution_count": null,
      "outputs": [
        {
          "output_type": "execute_result",
          "data": {
            "text/plain": [
              "bool"
            ]
          },
          "metadata": {},
          "execution_count": 5
        }
      ]
    },
    {
      "cell_type": "code",
      "source": [
        "type(s)"
      ],
      "metadata": {
        "colab": {
          "base_uri": "https://localhost:8080/"
        },
        "id": "6TTtTmCkBHNL",
        "outputId": "37c2d0dc-f97e-4074-a2e3-e1e0aaf89729"
      },
      "execution_count": null,
      "outputs": [
        {
          "output_type": "execute_result",
          "data": {
            "text/plain": [
              "str"
            ]
          },
          "metadata": {},
          "execution_count": 6
        }
      ]
    },
    {
      "cell_type": "markdown",
      "source": [
        "What happens if we add an int with a float?"
      ],
      "metadata": {
        "id": "nzJTHGf8Bers"
      }
    },
    {
      "cell_type": "code",
      "source": [
        "x = b + f\n",
        "x"
      ],
      "metadata": {
        "colab": {
          "base_uri": "https://localhost:8080/"
        },
        "id": "fxiyqBVlBYrZ",
        "outputId": "c1c16d5e-6fcb-496d-a4a6-86d7f9cd78b9"
      },
      "execution_count": null,
      "outputs": [
        {
          "output_type": "execute_result",
          "data": {
            "text/plain": [
              "5.176"
            ]
          },
          "metadata": {},
          "execution_count": 7
        }
      ]
    },
    {
      "cell_type": "code",
      "source": [
        "type(x)"
      ],
      "metadata": {
        "colab": {
          "base_uri": "https://localhost:8080/"
        },
        "id": "n0dSEoBEBbiT",
        "outputId": "3727a66b-31b8-4152-ffd7-e8d9bbe7ee0a"
      },
      "execution_count": null,
      "outputs": [
        {
          "output_type": "execute_result",
          "data": {
            "text/plain": [
              "float"
            ]
          },
          "metadata": {},
          "execution_count": 8
        }
      ]
    },
    {
      "cell_type": "markdown",
      "source": [
        "Another handy tool is the ability to convert data types.\n",
        "For instance, by converting x to an integer, we obtain only its integer part."
      ],
      "metadata": {
        "id": "qhmzXdWEBkts"
      }
    },
    {
      "cell_type": "code",
      "source": [
        "x2 = int(x) #variable casting\n",
        "x2"
      ],
      "metadata": {
        "colab": {
          "base_uri": "https://localhost:8080/"
        },
        "id": "9urmEVBeB2O7",
        "outputId": "dc2cf4a4-0a76-48d5-83ac-44612141f756"
      },
      "execution_count": null,
      "outputs": [
        {
          "output_type": "execute_result",
          "data": {
            "text/plain": [
              "5"
            ]
          },
          "metadata": {},
          "execution_count": 9
        }
      ]
    },
    {
      "cell_type": "code",
      "source": [
        "type(x2)"
      ],
      "metadata": {
        "colab": {
          "base_uri": "https://localhost:8080/"
        },
        "id": "5vO6QIlA2YJC",
        "outputId": "54de4215-a1ff-4a97-ffee-3b24b8d007f0"
      },
      "execution_count": null,
      "outputs": [
        {
          "output_type": "execute_result",
          "data": {
            "text/plain": [
              "int"
            ]
          },
          "metadata": {},
          "execution_count": 10
        }
      ]
    },
    {
      "cell_type": "markdown",
      "source": [
        "For boolean variables, their representation as integers can be useful for certain applications. The correspondence is as follows:\n",
        "\n",
        "True $\\neq$ 0 (More commonly represented as 1)\n",
        "\n",
        "False = 0"
      ],
      "metadata": {
        "id": "hUTYPuqRB7JS"
      }
    },
    {
      "cell_type": "code",
      "source": [
        "condicion_int = int(condition)\n",
        "condicion_int"
      ],
      "metadata": {
        "colab": {
          "base_uri": "https://localhost:8080/"
        },
        "id": "m7aHnSweB6Yy",
        "outputId": "e4c03fa3-8fb0-4c57-b636-6ed3fb714e7f"
      },
      "execution_count": null,
      "outputs": [
        {
          "output_type": "execute_result",
          "data": {
            "text/plain": [
              "1"
            ]
          },
          "metadata": {},
          "execution_count": 11
        }
      ]
    },
    {
      "cell_type": "code",
      "source": [
        "c = 5\n",
        "condicion_2 = bool(c)\n",
        "condicion_2"
      ],
      "metadata": {
        "colab": {
          "base_uri": "https://localhost:8080/"
        },
        "id": "7fswi5YgCP1x",
        "outputId": "2db8cb0f-c4ad-42d1-e16a-2e94f529c15a"
      },
      "execution_count": null,
      "outputs": [
        {
          "output_type": "execute_result",
          "data": {
            "text/plain": [
              "True"
            ]
          },
          "metadata": {},
          "execution_count": 12
        }
      ]
    },
    {
      "cell_type": "code",
      "source": [
        "c = 0\n",
        "condicion_2 = bool(c)\n",
        "condicion_2"
      ],
      "metadata": {
        "colab": {
          "base_uri": "https://localhost:8080/"
        },
        "id": "14KqhWnGCwgP",
        "outputId": "3f2c3ce8-d30e-4214-dcb9-2857d2854717"
      },
      "execution_count": null,
      "outputs": [
        {
          "output_type": "execute_result",
          "data": {
            "text/plain": [
              "False"
            ]
          },
          "metadata": {},
          "execution_count": 13
        }
      ]
    },
    {
      "cell_type": "markdown",
      "source": [
        "Two of the main commands used to interact with the console are: print() and input()."
      ],
      "metadata": {
        "id": "ZhNkkPAAIDDO"
      }
    },
    {
      "cell_type": "markdown",
      "source": [
        "The print() command allows us to display variables as well as the text that is provided as an argument on the screen."
      ],
      "metadata": {
        "id": "W5sOen9pJXY0"
      }
    },
    {
      "cell_type": "code",
      "source": [
        "print(\"This is the message to be printed.\\nIn this case, it has two lines.\") #\\n print a new line"
      ],
      "metadata": {
        "colab": {
          "base_uri": "https://localhost:8080/"
        },
        "id": "BU-dHeM0Jl7l",
        "outputId": "b2560643-5521-472f-ddd2-a1d8e6c54352"
      },
      "execution_count": null,
      "outputs": [
        {
          "output_type": "stream",
          "name": "stdout",
          "text": [
            "This is the message to be printed.\n",
            "In this case, it has two lines.\n"
          ]
        }
      ]
    },
    {
      "cell_type": "code",
      "source": [
        "print(b)"
      ],
      "metadata": {
        "colab": {
          "base_uri": "https://localhost:8080/"
        },
        "id": "vk4hdmzRJ6R-",
        "outputId": "a74b6fd0-d27c-4209-a635-f62557907b4a"
      },
      "execution_count": null,
      "outputs": [
        {
          "output_type": "stream",
          "name": "stdout",
          "text": [
            "5\n"
          ]
        }
      ]
    },
    {
      "cell_type": "code",
      "source": [
        "print(condition)"
      ],
      "metadata": {
        "colab": {
          "base_uri": "https://localhost:8080/"
        },
        "id": "fzPS0Fh_KCig",
        "outputId": "71ce8a07-01eb-4ae0-a2c8-e90f2b32b0f9"
      },
      "execution_count": null,
      "outputs": [
        {
          "output_type": "stream",
          "name": "stdout",
          "text": [
            "True\n"
          ]
        }
      ]
    },
    {
      "cell_type": "markdown",
      "source": [
        "On the other hand, the input() command can also display a message on the screen, but it will be displayed before the input field where the value, which will be stored in a string variable, is entered."
      ],
      "metadata": {
        "id": "4Mrq_tb6KYEw"
      }
    },
    {
      "cell_type": "code",
      "source": [
        "y = input(\"Input a number please: \")\n",
        "y"
      ],
      "metadata": {
        "colab": {
          "base_uri": "https://localhost:8080/",
          "height": 53
        },
        "id": "BVX98Bx8LPs_",
        "outputId": "58327312-6f37-4951-bea9-05c8259bca9d"
      },
      "execution_count": null,
      "outputs": [
        {
          "name": "stdout",
          "output_type": "stream",
          "text": [
            "Input a number please: 9\n"
          ]
        },
        {
          "output_type": "execute_result",
          "data": {
            "text/plain": [
              "'9'"
            ],
            "application/vnd.google.colaboratory.intrinsic+json": {
              "type": "string"
            }
          },
          "metadata": {},
          "execution_count": 17
        }
      ]
    },
    {
      "cell_type": "code",
      "source": [
        "type(y) #note that a str is captured, you need to privide a casting to convert it to a number if needed"
      ],
      "metadata": {
        "colab": {
          "base_uri": "https://localhost:8080/"
        },
        "id": "9JbU9M5rN_Vt",
        "outputId": "f110fcf8-7800-4bbf-a614-29584159a71f"
      },
      "execution_count": null,
      "outputs": [
        {
          "output_type": "execute_result",
          "data": {
            "text/plain": [
              "str"
            ]
          },
          "metadata": {},
          "execution_count": 18
        }
      ]
    },
    {
      "cell_type": "markdown",
      "source": [
        "\n",
        "Basic arithmetic operations:"
      ],
      "metadata": {
        "id": "QG5TxjW-OWqY"
      }
    },
    {
      "cell_type": "code",
      "source": [
        "a = 2 + 4.5 + 3\n",
        "b = a - 2.5 # . holds decimal operator\n",
        "b"
      ],
      "metadata": {
        "colab": {
          "base_uri": "https://localhost:8080/"
        },
        "id": "AUJtIrleRIdQ",
        "outputId": "d82cce49-a52d-401c-b143-a9c64f5de0b0"
      },
      "execution_count": null,
      "outputs": [
        {
          "output_type": "execute_result",
          "data": {
            "text/plain": [
              "7.0"
            ]
          },
          "metadata": {},
          "execution_count": 19
        }
      ]
    },
    {
      "cell_type": "code",
      "source": [
        "a = 3*8 # Multiplication maintains the data type if it is an integer\n",
        "b = a/6 # Division automatically converts it to a float even if it is exact\n",
        "a, b"
      ],
      "metadata": {
        "colab": {
          "base_uri": "https://localhost:8080/"
        },
        "id": "pzLN54zIRPMw",
        "outputId": "b2a243c8-11b7-4fa4-e5fa-163d1421878a"
      },
      "execution_count": null,
      "outputs": [
        {
          "output_type": "execute_result",
          "data": {
            "text/plain": [
              "(24, 4.0)"
            ]
          },
          "metadata": {},
          "execution_count": 20
        }
      ]
    },
    {
      "cell_type": "code",
      "source": [
        "a = 2**2 # ** power operator\n",
        "a"
      ],
      "metadata": {
        "colab": {
          "base_uri": "https://localhost:8080/"
        },
        "id": "hPtAUG8ASYWB",
        "outputId": "0b4353bc-c47a-4046-e77d-dac77a7f675d"
      },
      "execution_count": null,
      "outputs": [
        {
          "output_type": "execute_result",
          "data": {
            "text/plain": [
              "4"
            ]
          },
          "metadata": {},
          "execution_count": 21
        }
      ]
    },
    {
      "cell_type": "code",
      "source": [
        "b = 9**(1/2)\n",
        "b"
      ],
      "metadata": {
        "colab": {
          "base_uri": "https://localhost:8080/"
        },
        "id": "cxjxYCBVSbp0",
        "outputId": "a137a2b9-4966-48e3-a971-69d850978870"
      },
      "execution_count": null,
      "outputs": [
        {
          "output_type": "execute_result",
          "data": {
            "text/plain": [
              "3.0"
            ]
          },
          "metadata": {},
          "execution_count": 22
        }
      ]
    },
    {
      "cell_type": "markdown",
      "source": [
        "\n",
        "This is a way to calculate square roots without using any library.\n",
        "In general, for more advanced calculations, numpy and sympy are commonly used."
      ],
      "metadata": {
        "id": "Q-Zz-FXuSkuC"
      }
    },
    {
      "cell_type": "markdown",
      "source": [
        "## Exercises"
      ],
      "metadata": {
        "id": "fe0JX6B0TEjG"
      }
    },
    {
      "cell_type": "markdown",
      "source": [
        "\n",
        "1. Write a program that displays the result of the following arithmetic operation on the screen: $x(t) = \\left(\\frac{3+2}{2.5}\\right)^2$\n",
        "\n",
        "2. Write a program that asks the user for the number of hours worked and the hourly rate. Then, it should display on the screen the corresponding payment.\n",
        "\n",
        "3. Write a program that asks the user for their weight (in kg) and height (in meters), calculates the body mass index (BMI), stores it in a variable, and displays the message \"Your body mass index is imc\" on the screen, where imc is the calculated BMI rounded to two decimal places."
      ],
      "metadata": {
        "id": "96blkWptzDmu"
      }
    },
    {
      "cell_type": "markdown",
      "source": [
        "Developed by:\n",
        "\n",
        "- Brian Patino Agudelo - bpatinoa@unal.edu.co\n",
        "\n",
        "- Andrés Marino Álvarez Meza - amalvarezme@unal.edu.co\n",
        "\n",
        "- César Germán Castellanos Domínguez - cgcastellanosd@unal.edu.co"
      ],
      "metadata": {
        "id": "pwWLNV4zz5di"
      }
    },
    {
      "cell_type": "code",
      "source": [
        "z=(3+2/2.5)**2\n",
        "z"
      ],
      "metadata": {
        "id": "DYIs5bv57aMv",
        "outputId": "28f3f649-8f53-41a0-a93c-1b8b5332fafb",
        "colab": {
          "base_uri": "https://localhost:8080/"
        }
      },
      "execution_count": null,
      "outputs": [
        {
          "output_type": "execute_result",
          "data": {
            "text/plain": [
              "14.44"
            ]
          },
          "metadata": {},
          "execution_count": 23
        }
      ]
    },
    {
      "cell_type": "code",
      "source": [
        "j= int(input(\"Input a number of the number of hours worked: \"))\n",
        "k= int(input(\"Input  the hourly rate: \"))\n",
        "l= j * k\n",
        "l"
      ],
      "metadata": {
        "id": "dyMt6QK5fFbW",
        "outputId": "45a23611-2b0a-42ed-d4ce-db3863a4eaa5",
        "colab": {
          "base_uri": "https://localhost:8080/"
        }
      },
      "execution_count": null,
      "outputs": [
        {
          "name": "stdout",
          "output_type": "stream",
          "text": [
            "Input a number of the number of hours worked: 5\n",
            "Input  the hourly rate: 4\n"
          ]
        },
        {
          "output_type": "execute_result",
          "data": {
            "text/plain": [
              "20"
            ]
          },
          "metadata": {},
          "execution_count": 26
        }
      ]
    },
    {
      "cell_type": "code",
      "source": [
        "p= int(input(\"Input the user for their weight (in kg): \"))\n",
        "w= float(input(\"Input the height (in meters),: \"))\n",
        "r= p/w**2\n",
        "redondeado = round(r,2)\n",
        "print(\"Your body mass index is imc:\",redondeado)"
      ],
      "metadata": {
        "id": "zX2mza1nfwjQ",
        "outputId": "c0d0343b-5fe6-4cb0-bfbe-fc905dbc3ea6",
        "colab": {
          "base_uri": "https://localhost:8080/"
        }
      },
      "execution_count": 1,
      "outputs": [
        {
          "output_type": "stream",
          "name": "stdout",
          "text": [
            "Input the user for their weight (in kg): 50\n",
            "Input the height (in meters),: 1.8\n",
            "Your body mass index is imc: 15.43\n"
          ]
        }
      ]
    }
  ]
}