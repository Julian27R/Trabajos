{
  "cells": [
    {
      "cell_type": "markdown",
      "metadata": {
        "id": "view-in-github",
        "colab_type": "text"
      },
      "source": [
        "<a href=\"https://colab.research.google.com/github/Julian27R/Trabajos/blob/main/Detector_Musica_FI.ipynb\" target=\"_parent\"><img src=\"https://colab.research.google.com/assets/colab-badge.svg\" alt=\"Open In Colab\"/></a>"
      ]
    },
    {
      "cell_type": "markdown",
      "source": [
        "# **Importar modelo base de datos canciones**"
      ],
      "metadata": {
        "id": "Y5_o6alXjIdA"
      }
    },
    {
      "cell_type": "code",
      "source": [
        "from google.colab import drive\n",
        "drive.mount('/content/drive')"
      ],
      "metadata": {
        "colab": {
          "base_uri": "https://localhost:8080/"
        },
        "id": "LpvWiO09jGzI",
        "outputId": "366de173-e70c-4e75-9bc0-43dad19ca30b"
      },
      "execution_count": 52,
      "outputs": [
        {
          "output_type": "stream",
          "name": "stdout",
          "text": [
            "Drive already mounted at /content/drive; to attempt to forcibly remount, call drive.mount(\"/content/drive\", force_remount=True).\n"
          ]
        }
      ]
    },
    {
      "cell_type": "code",
      "source": [
        "import joblib\n",
        "\n",
        "# Ruta al archivo del modelo en Google Colab\n",
        "ruta_al_modelo = '/content/drive/My Drive/Modelo/reggaeton_vs_salsa.pkl'  # Ajusta la ruta y el nombre del archivo según tu ubicación\n",
        "\n",
        "# Carga el modelo desde el archivo .pkl\n",
        "modelo_cargado = joblib.load(ruta_al_modelo)\n",
        "modelo_cargado.keys()\n",
        "base_datos = modelo_cargado['Xw_']\n",
        "genero_bd = modelo_cargado['label']\n",
        "print('Tamaño base de datos: ',base_datos.shape)\n",
        "print('Tamaño del label generos: ',genero_bd.shape)"
      ],
      "metadata": {
        "colab": {
          "base_uri": "https://localhost:8080/"
        },
        "id": "XhQiutsGjMXA",
        "outputId": "1e77206f-7ace-4ee8-bdc0-545567cd5aa8"
      },
      "execution_count": 111,
      "outputs": [
        {
          "output_type": "stream",
          "name": "stdout",
          "text": [
            "Tamaño base de datos:  (140, 120001)\n",
            "Tamaño del label generos:  (140, 1)\n"
          ]
        }
      ]
    },
    {
      "cell_type": "markdown",
      "metadata": {
        "id": "it2Kod8MNIgc"
      },
      "source": [
        "# Descargar mp3 videos youtube"
      ]
    },
    {
      "cell_type": "code",
      "execution_count": 58,
      "metadata": {
        "colab": {
          "base_uri": "https://localhost:8080/"
        },
        "id": "pG39Z_yfnkbo",
        "outputId": "6a64dd8c-f302-4a36-f48e-ee9bf8c60f19"
      },
      "outputs": [
        {
          "output_type": "stream",
          "name": "stdout",
          "text": [
            "Collecting https://github.com/yt-dlp/yt-dlp/archive/master.tar.gz\n",
            "  Using cached https://github.com/yt-dlp/yt-dlp/archive/master.tar.gz (2.6 MB)\n",
            "  Installing build dependencies ... \u001b[?25l\u001b[?25hdone\n",
            "  Getting requirements to build wheel ... \u001b[?25l\u001b[?25hdone\n",
            "  Installing backend dependencies ... \u001b[?25l\u001b[?25hdone\n",
            "  Preparing metadata (pyproject.toml) ... \u001b[?25l\u001b[?25hdone\n",
            "Collecting mutagen (from yt-dlp==2023.11.16)\n",
            "  Using cached mutagen-1.47.0-py3-none-any.whl (194 kB)\n",
            "Collecting pycryptodomex (from yt-dlp==2023.11.16)\n",
            "  Using cached pycryptodomex-3.19.0-cp35-abi3-manylinux_2_17_x86_64.manylinux2014_x86_64.whl (2.1 MB)\n",
            "Collecting websockets (from yt-dlp==2023.11.16)\n",
            "  Using cached websockets-12.0-cp310-cp310-manylinux_2_5_x86_64.manylinux1_x86_64.manylinux_2_17_x86_64.manylinux2014_x86_64.whl (130 kB)\n",
            "Collecting certifi (from yt-dlp==2023.11.16)\n",
            "  Using cached certifi-2023.11.17-py3-none-any.whl (162 kB)\n",
            "Collecting requests<3,>=2.31.0 (from yt-dlp==2023.11.16)\n",
            "  Using cached requests-2.31.0-py3-none-any.whl (62 kB)\n",
            "Collecting urllib3<3,>=1.26.17 (from yt-dlp==2023.11.16)\n",
            "  Using cached urllib3-2.1.0-py3-none-any.whl (104 kB)\n",
            "Collecting brotli (from yt-dlp==2023.11.16)\n",
            "  Using cached Brotli-1.1.0-cp310-cp310-manylinux_2_5_x86_64.manylinux1_x86_64.manylinux_2_12_x86_64.manylinux2010_x86_64.whl (3.0 MB)\n",
            "Collecting charset-normalizer<4,>=2 (from requests<3,>=2.31.0->yt-dlp==2023.11.16)\n",
            "  Using cached charset_normalizer-3.3.2-cp310-cp310-manylinux_2_17_x86_64.manylinux2014_x86_64.whl (142 kB)\n",
            "Collecting idna<4,>=2.5 (from requests<3,>=2.31.0->yt-dlp==2023.11.16)\n",
            "  Using cached idna-3.4-py3-none-any.whl (61 kB)\n",
            "Building wheels for collected packages: yt-dlp\n",
            "  Building wheel for yt-dlp (pyproject.toml) ... \u001b[?25l\u001b[?25hdone\n",
            "  Created wheel for yt-dlp: filename=yt_dlp-2023.11.16-py2.py3-none-any.whl size=2882786 sha256=e546c1976368420db221c43fc2885642dae28030ac86c0422f8f3d1a936c17e8\n",
            "  Stored in directory: /tmp/pip-ephem-wheel-cache-0d3iwqoj/wheels/4c/91/d1/c5369304e2f7afb660bb6eee093af5a7d3c0ea05a3c1e8c797\n",
            "Successfully built yt-dlp\n",
            "Installing collected packages: brotli, websockets, urllib3, pycryptodomex, mutagen, idna, charset-normalizer, certifi, requests, yt-dlp\n",
            "  Attempting uninstall: brotli\n",
            "    Found existing installation: Brotli 1.1.0\n",
            "    Uninstalling Brotli-1.1.0:\n",
            "      Successfully uninstalled Brotli-1.1.0\n",
            "  Attempting uninstall: websockets\n",
            "    Found existing installation: websockets 12.0\n",
            "    Uninstalling websockets-12.0:\n",
            "      Successfully uninstalled websockets-12.0\n",
            "  Attempting uninstall: urllib3\n",
            "    Found existing installation: urllib3 2.1.0\n",
            "    Uninstalling urllib3-2.1.0:\n",
            "      Successfully uninstalled urllib3-2.1.0\n",
            "  Attempting uninstall: pycryptodomex\n",
            "    Found existing installation: pycryptodomex 3.19.0\n",
            "    Uninstalling pycryptodomex-3.19.0:\n",
            "      Successfully uninstalled pycryptodomex-3.19.0\n",
            "  Attempting uninstall: mutagen\n",
            "    Found existing installation: mutagen 1.47.0\n",
            "    Uninstalling mutagen-1.47.0:\n",
            "      Successfully uninstalled mutagen-1.47.0\n",
            "  Attempting uninstall: idna\n",
            "    Found existing installation: idna 3.4\n",
            "    Uninstalling idna-3.4:\n",
            "      Successfully uninstalled idna-3.4\n",
            "  Attempting uninstall: charset-normalizer\n",
            "    Found existing installation: charset-normalizer 3.3.2\n",
            "    Uninstalling charset-normalizer-3.3.2:\n",
            "      Successfully uninstalled charset-normalizer-3.3.2\n",
            "  Attempting uninstall: certifi\n",
            "    Found existing installation: certifi 2023.11.17\n",
            "    Uninstalling certifi-2023.11.17:\n",
            "      Successfully uninstalled certifi-2023.11.17\n",
            "  Attempting uninstall: requests\n",
            "    Found existing installation: requests 2.31.0\n",
            "    Uninstalling requests-2.31.0:\n",
            "      Successfully uninstalled requests-2.31.0\n",
            "  Attempting uninstall: yt-dlp\n",
            "    Found existing installation: yt-dlp 2023.11.16\n",
            "    Uninstalling yt-dlp-2023.11.16:\n",
            "      Successfully uninstalled yt-dlp-2023.11.16\n",
            "\u001b[31mERROR: pip's dependency resolver does not currently take into account all the packages that are installed. This behaviour is the source of the following dependency conflicts.\n",
            "lida 0.0.10 requires fastapi, which is not installed.\n",
            "lida 0.0.10 requires kaleido, which is not installed.\n",
            "lida 0.0.10 requires python-multipart, which is not installed.\n",
            "lida 0.0.10 requires uvicorn, which is not installed.\u001b[0m\u001b[31m\n",
            "\u001b[0mSuccessfully installed brotli-1.1.0 certifi-2023.11.17 charset-normalizer-3.3.2 idna-3.4 mutagen-1.47.0 pycryptodomex-3.19.0 requests-2.31.0 urllib3-2.1.0 websockets-12.0 yt-dlp-2023.11.16\n"
          ]
        }
      ],
      "source": [
        "!python3 -m pip install --force-reinstall https://github.com/yt-dlp/yt-dlp/archive/master.tar.gz"
      ]
    },
    {
      "cell_type": "code",
      "execution_count": 64,
      "metadata": {
        "id": "kNr5wKLqpbVx"
      },
      "outputs": [],
      "source": [
        "import os\n",
        "import yt_dlp as youtube_dl\n",
        "def download_ytvid_as_mp3(video_url,name):\n",
        "    #video_url = input(\"enter url of youtube video:\")\n",
        "    video_info = youtube_dl.YoutubeDL().extract_info(url = video_url,download=False)\n",
        "    filename = f\"{name}.mp3\"\n",
        "    options={\n",
        "        'format':'bestaudio/best',\n",
        "        'keepvideo':False,\n",
        "        'outtmpl':filename,\n",
        "    }\n",
        "\n",
        "    with youtube_dl.YoutubeDL(options) as ydl:\n",
        "        ydl.download([video_info['webpage_url']])\n",
        "\n",
        "    print(\"Download complete... {}\".format(filename))"
      ]
    },
    {
      "cell_type": "markdown",
      "metadata": {
        "id": "PNwvgvlBNSMZ"
      },
      "source": [
        "## Lista links videos y nombres salida mp3"
      ]
    },
    {
      "cell_type": "code",
      "execution_count": 65,
      "metadata": {
        "colab": {
          "base_uri": "https://localhost:8080/"
        },
        "id": "urNLt0VTFlJP",
        "outputId": "25f4c7d7-22c9-45ab-d3e5-9e093d4c20be"
      },
      "outputs": [
        {
          "output_type": "stream",
          "name": "stdout",
          "text": [
            "feid\n",
            "[youtube] Extracting URL: https://www.youtube.com/watch?v=oD5f55ohsc4=Feid\n",
            "[youtube] oD5f55ohsc4: Downloading webpage\n",
            "[youtube] oD5f55ohsc4: Downloading ios player API JSON\n",
            "[youtube] oD5f55ohsc4: Downloading android player API JSON\n",
            "[youtube] oD5f55ohsc4: Downloading m3u8 information\n",
            "[youtube] Extracting URL: https://www.youtube.com/watch?v=oD5f55ohsc4\n",
            "[youtube] oD5f55ohsc4: Downloading webpage\n",
            "[youtube] oD5f55ohsc4: Downloading ios player API JSON\n",
            "[youtube] oD5f55ohsc4: Downloading android player API JSON\n",
            "[youtube] oD5f55ohsc4: Downloading m3u8 information\n",
            "[info] oD5f55ohsc4: Downloading 1 format(s): 251\n",
            "[download] feid.mp3 has already been downloaded\n",
            "[download] 100% of    2.88MiB\n",
            "Download complete... feid.mp3\n",
            "blessd\n",
            "[youtube] Extracting URL: https://www.youtube.com/watch?v=Q0obZUZBVdM=BLESSD\n",
            "[youtube] Q0obZUZBVdM: Downloading webpage\n",
            "[youtube] Q0obZUZBVdM: Downloading ios player API JSON\n",
            "[youtube] Q0obZUZBVdM: Downloading android player API JSON\n",
            "[youtube] Q0obZUZBVdM: Downloading m3u8 information\n",
            "[youtube] Extracting URL: https://www.youtube.com/watch?v=Q0obZUZBVdM\n",
            "[youtube] Q0obZUZBVdM: Downloading webpage\n",
            "[youtube] Q0obZUZBVdM: Downloading ios player API JSON\n",
            "[youtube] Q0obZUZBVdM: Downloading android player API JSON\n",
            "[youtube] Q0obZUZBVdM: Downloading m3u8 information\n",
            "[info] Q0obZUZBVdM: Downloading 1 format(s): 251\n",
            "[download] blessd.mp3 has already been downloaded\n",
            "[download] 100% of    3.00MiB\n",
            "Download complete... blessd.mp3\n",
            "adolescents\n",
            "[youtube] Extracting URL: https://www.youtube.com/watch?v=pz9O3UeM_o0=Adolescents_Orquesta\n",
            "[youtube] pz9O3UeM_o0: Downloading webpage\n",
            "[youtube] pz9O3UeM_o0: Downloading ios player API JSON\n",
            "[youtube] pz9O3UeM_o0: Downloading android player API JSON\n",
            "[youtube] pz9O3UeM_o0: Downloading m3u8 information\n",
            "[youtube] Extracting URL: https://www.youtube.com/watch?v=pz9O3UeM_o0\n",
            "[youtube] pz9O3UeM_o0: Downloading webpage\n",
            "[youtube] pz9O3UeM_o0: Downloading ios player API JSON\n",
            "[youtube] pz9O3UeM_o0: Downloading android player API JSON\n",
            "[youtube] pz9O3UeM_o0: Downloading m3u8 information\n",
            "[info] pz9O3UeM_o0: Downloading 1 format(s): 251\n",
            "[download] adolescents.mp3 has already been downloaded\n",
            "[download] 100% of    4.61MiB\n",
            "Download complete... adolescents.mp3\n"
          ]
        }
      ],
      "source": [
        "link_= [\"https://www.youtube.com/watch?v=oD5f55ohsc4=Feid\",\n",
        "        'https://www.youtube.com/watch?v=Q0obZUZBVdM=BLESSD',\n",
        "        'https://www.youtube.com/watch?v=pz9O3UeM_o0=Adolescents_Orquesta'\n",
        "       ]\n",
        "name_ = ['feid',\n",
        "         'blessd',\n",
        "         'adolescents'\n",
        "        ]\n",
        "for name,link in zip(name_,link_):\n",
        "    print(name)\n",
        "    download_ytvid_as_mp3(link,name)"
      ]
    },
    {
      "cell_type": "code",
      "execution_count": 8,
      "metadata": {
        "colab": {
          "base_uri": "https://localhost:8080/"
        },
        "id": "3BZvwioy3BUP",
        "outputId": "cb58f4f2-916a-468e-f7c6-8b32b3fdc57c"
      },
      "outputs": [
        {
          "output_type": "stream",
          "name": "stdout",
          "text": [
            "3\n",
            "[youtube] Extracting URL: https://www.youtube.com/watch?v=oD5f55ohsc4=Feid\n",
            "[youtube] oD5f55ohsc4: Downloading webpage\n",
            "[youtube] oD5f55ohsc4: Downloading ios player API JSON\n",
            "[youtube] oD5f55ohsc4: Downloading android player API JSON\n",
            "[youtube] oD5f55ohsc4: Downloading m3u8 information\n",
            "[youtube] Extracting URL: https://www.youtube.com/watch?v=oD5f55ohsc4\n",
            "[youtube] oD5f55ohsc4: Downloading webpage\n",
            "[youtube] oD5f55ohsc4: Downloading ios player API JSON\n",
            "[youtube] oD5f55ohsc4: Downloading android player API JSON\n",
            "[youtube] oD5f55ohsc4: Downloading m3u8 information\n",
            "[info] oD5f55ohsc4: Downloading 1 format(s): 251\n",
            "[download] Destination: Pruebas/feid.mp3\n",
            "[download] 100% of    2.88MiB in 00:00:00 at 14.82MiB/s  \n",
            "Download complete... Pruebas/feid.mp3\n",
            "[youtube] Extracting URL: https://www.youtube.com/watch?v=Q0obZUZBVdM=BLESSD\n",
            "[youtube] Q0obZUZBVdM: Downloading webpage\n",
            "[youtube] Q0obZUZBVdM: Downloading ios player API JSON\n",
            "[youtube] Q0obZUZBVdM: Downloading android player API JSON\n",
            "[youtube] Q0obZUZBVdM: Downloading m3u8 information\n",
            "[youtube] Extracting URL: https://www.youtube.com/watch?v=Q0obZUZBVdM\n",
            "[youtube] Q0obZUZBVdM: Downloading webpage\n",
            "[youtube] Q0obZUZBVdM: Downloading ios player API JSON\n",
            "[youtube] Q0obZUZBVdM: Downloading android player API JSON\n",
            "[youtube] Q0obZUZBVdM: Downloading m3u8 information\n",
            "[info] Q0obZUZBVdM: Downloading 1 format(s): 251\n",
            "[download] Destination: Pruebas/blessd.mp3\n",
            "[download] 100% of    3.00MiB in 00:00:00 at 4.42MiB/s   \n",
            "Download complete... Pruebas/blessd.mp3\n",
            "[youtube] Extracting URL: https://www.youtube.com/watch?v=pz9O3UeM_o0=Adolescents_Orquesta\n",
            "[youtube] pz9O3UeM_o0: Downloading webpage\n",
            "[youtube] pz9O3UeM_o0: Downloading ios player API JSON\n",
            "[youtube] pz9O3UeM_o0: Downloading android player API JSON\n",
            "[youtube] pz9O3UeM_o0: Downloading m3u8 information\n",
            "[youtube] Extracting URL: https://www.youtube.com/watch?v=pz9O3UeM_o0\n",
            "[youtube] pz9O3UeM_o0: Downloading webpage\n",
            "[youtube] pz9O3UeM_o0: Downloading ios player API JSON\n",
            "[youtube] pz9O3UeM_o0: Downloading android player API JSON\n",
            "[youtube] pz9O3UeM_o0: Downloading m3u8 information\n",
            "[info] pz9O3UeM_o0: Downloading 1 format(s): 251\n",
            "[download] Destination: Pruebas/adolescents.mp3\n",
            "[download] 100% of    4.61MiB in 00:00:00 at 17.49MiB/s  \n",
            "Download complete... Pruebas/adolescents.mp3\n"
          ]
        }
      ],
      "source": [
        "import subprocess\n",
        "import os\n",
        "\n",
        "#crear carpeta con resultados\n",
        "try:\n",
        "  os.mkdir('Pruebas')\n",
        "except:\n",
        "  print(\"Carpeta Pruebas ya existe\")\n",
        "\n",
        "#recorrer excel con videos\n",
        "N = len(link_)\n",
        "print(N)\n",
        "Ns = N * 5 #cantidad de segmentos por cancion\n",
        "for n in range(N):\n",
        "    name_rout = 'Pruebas/'+name_[n]\n",
        "    #descargar mp3 desde youtube\n",
        "    download_ytvid_as_mp3(link_[n],name_rout)\n",
        "    #convertir a .wav\n",
        "    subprocess.call(['ffmpeg','-y', '-i', name_rout+'.mp3',\n",
        "                   name_rout+'.wav'])"
      ]
    },
    {
      "cell_type": "markdown",
      "source": [
        "# Convertir mp3 a wav"
      ],
      "metadata": {
        "id": "7X0wKhyplzZX"
      }
    },
    {
      "cell_type": "code",
      "execution_count": 90,
      "metadata": {
        "colab": {
          "base_uri": "https://localhost:8080/"
        },
        "id": "ZQM3BFvD8Vng",
        "outputId": "2e80c8c5-58ee-424f-9a1f-6cb2126e0283"
      },
      "outputs": [
        {
          "output_type": "execute_result",
          "data": {
            "text/plain": [
              "['blessd.wav', 'feid.wav', 'adolescents.wav']"
            ]
          },
          "metadata": {},
          "execution_count": 90
        }
      ],
      "source": [
        "import subprocess\n",
        "\n",
        "for name in name_:\n",
        "    subprocess.call(['ffmpeg','-y', '-i', name+'.mp3',\n",
        "                   name+'.wav'])\n",
        "'''#cargar .wavs y partir audios\n",
        "#lista archivos .wav'''\n",
        "path = 'Pruebas/'\n",
        "wav_files = [f for f in os.listdir(path) if f.endswith('.wav')]\n",
        "wav_files"
      ]
    },
    {
      "cell_type": "markdown",
      "source": [
        "# Leer wav en numpy"
      ],
      "metadata": {
        "id": "hQjFbQRJl_As"
      }
    },
    {
      "cell_type": "code",
      "execution_count": 91,
      "metadata": {
        "colab": {
          "base_uri": "https://localhost:8080/"
        },
        "id": "dHUe1kFzFIw4",
        "outputId": "e495a70b-257e-45bb-c70b-10f132027271"
      },
      "outputs": [
        {
          "output_type": "stream",
          "name": "stdout",
          "text": [
            "Requirement already satisfied: soundfile in /usr/local/lib/python3.10/dist-packages (0.12.1)\n",
            "Requirement already satisfied: cffi>=1.0 in /usr/local/lib/python3.10/dist-packages (from soundfile) (1.16.0)\n",
            "Requirement already satisfied: pycparser in /usr/local/lib/python3.10/dist-packages (from cffi>=1.0->soundfile) (2.21)\n"
          ]
        }
      ],
      "source": [
        "!pip install soundfile #instalar sondfile"
      ]
    },
    {
      "cell_type": "markdown",
      "source": [
        "# Guardar canciones .wav en lista"
      ],
      "metadata": {
        "id": "HFEA4q1znoaW"
      }
    },
    {
      "cell_type": "code",
      "source": [
        "import soundfile as sf # para instalar pip install soundfile\n",
        "#lee archivos wav\n",
        "for name in name_:\n",
        "    nombre_out = \"output.wav\"\n",
        "    x, fs = sf.read(name+'.wav')\n",
        "\n",
        "    print('Frecuencia de muestreo %.2f[Hz]\\naudio %s' % (fs,name+'.wav'))"
      ],
      "metadata": {
        "colab": {
          "base_uri": "https://localhost:8080/"
        },
        "id": "9G7LWrjrmEMj",
        "outputId": "c0f8f2e7-e0a3-4dc5-92ce-5cd81e9bddee"
      },
      "execution_count": 92,
      "outputs": [
        {
          "output_type": "stream",
          "name": "stdout",
          "text": [
            "Frecuencia de muestreo 48000.00[Hz]\n",
            "audio feid.wav\n",
            "Frecuencia de muestreo 48000.00[Hz]\n",
            "audio blessd.wav\n",
            "Frecuencia de muestreo 48000.00[Hz]\n",
            "audio adolescents.wav\n"
          ]
        }
      ]
    },
    {
      "cell_type": "markdown",
      "source": [
        "# Lectura de canciones de prueba"
      ],
      "metadata": {
        "id": "7g7JblfHntpO"
      }
    },
    {
      "cell_type": "code",
      "execution_count": 162,
      "metadata": {
        "colab": {
          "base_uri": "https://localhost:8080/"
        },
        "id": "MjlmCzcuFOKK",
        "outputId": "6e43696e-69c4-4e43-f55e-88b52509069d"
      },
      "outputs": [
        {
          "output_type": "stream",
          "name": "stdout",
          "text": [
            "0 lectura: blessd.wav; segundo 40:45; tipo música [0.]\n",
            "1 lectura: feid.wav; segundo 40:45; tipo música [0.]\n",
            "2 lectura: adolescents.wav; segundo 40:45; tipo música [0.]\n"
          ]
        },
        {
          "output_type": "execute_result",
          "data": {
            "text/plain": [
              "(192000, 2)"
            ]
          },
          "metadata": {},
          "execution_count": 162
        }
      ],
      "source": [
        "import soundfile as sf\n",
        "import numpy as np\n",
        " # para instalar pip install soundfile\n",
        "#leer archivos y crear np.array audios\n",
        "fs = 48000\n",
        "ti = 40 #puntos lectura\n",
        "ts = 5 #t segmento\n",
        "Ns = len(wav_files)*(ti) #cantidad segmentos\n",
        "label = np.zeros((Ns,1)) #vector tipo de genero\n",
        "name_c = []\n",
        "#leer archivos wav\n",
        "i = 0\n",
        "for name in wav_files:#lectura audio .wav\n",
        "    x, fs = sf.read(path+name)\n",
        "    x_t = x[int(fs):int(fs*(ts)),:]\n",
        "    print(f\"{i} lectura: {name}; segundo {ti}:{ti+ts}; tipo música {label[i]}\")\n",
        "    i+=1\n",
        "x_t.shape"
      ]
    },
    {
      "cell_type": "markdown",
      "source": [
        "#Reproduccion de un segmento de cancion"
      ],
      "metadata": {
        "id": "6IqnaA2nnxqy"
      }
    },
    {
      "cell_type": "code",
      "execution_count": 161,
      "metadata": {
        "colab": {
          "base_uri": "https://localhost:8080/",
          "height": 76
        },
        "id": "b1yFgkpOGjfE",
        "outputId": "705d4b5b-cca5-420b-def8-2b56e146edd5"
      },
      "outputs": [
        {
          "output_type": "execute_result",
          "data": {
            "text/plain": [
              "<IPython.lib.display.Audio object>"
            ],
            "text/html": [
              "\n",
              "                <audio  controls=\"controls\" >\n",
              "                    <source src=\"data:audio/wav;base64,UklGRigAAABXQVZFZm10IBAAAAABAAEAgLsAAAB3AQACABAAZGF0YQQAAADglwGA\" type=\"audio/wav\" />\n",
              "                    Your browser does not support the audio element.\n",
              "                </audio>\n",
              "              "
            ]
          },
          "metadata": {},
          "execution_count": 161
        }
      ],
      "source": [
        "from IPython.display import Audio #reproducir segmento\n",
        "i = 1\n",
        "Audio(x_t[i].T,rate=fs)"
      ]
    },
    {
      "cell_type": "code",
      "execution_count": 103,
      "metadata": {
        "id": "0u3XbyJ_tSzS"
      },
      "outputs": [],
      "source": [
        "#IMPORTANDO LIBRERÍAS\n",
        "%matplotlib inline\n",
        "import matplotlib as mpl\n",
        "import matplotlib.pyplot as plt\n",
        "import numpy as np"
      ]
    },
    {
      "cell_type": "markdown",
      "source": [
        "#Calculo de Fourier a los segmentos de las canciones"
      ],
      "metadata": {
        "id": "yhJMtdk7n5Wf"
      }
    },
    {
      "cell_type": "code",
      "execution_count": 104,
      "metadata": {
        "colab": {
          "base_uri": "https://localhost:8080/"
        },
        "id": "lvU2ZnR0HFof",
        "outputId": "932b0cfc-4067-4cba-99d7-c0bd12ad6492"
      },
      "outputs": [
        {
          "output_type": "execute_result",
          "data": {
            "text/plain": [
              "(21, 120001)"
            ]
          },
          "metadata": {},
          "execution_count": 104
        }
      ],
      "source": [
        "#calculo de fourier\n",
        "vf = np.fft.rfftfreq(x_t.shape[1],1/fs) #calculo vector de frecuencias\n",
        "Xw = np.fft.rfft(x_t,axis=1).mean(axis=-1) #transformada rapida de Fourier para señal Real a lo largo del tiempo (axis=1) y se promedian los dos canales\n",
        "zt_m = np.abs(Xw)    #Valor de la magnitud\n",
        "name_c.append(zt_m)\n",
        "Xw.shape"
      ]
    },
    {
      "cell_type": "markdown",
      "source": [
        "#Espectro de Frecuencia"
      ],
      "metadata": {
        "id": "wGy7gWAWn-sF"
      }
    },
    {
      "cell_type": "code",
      "execution_count": 105,
      "metadata": {
        "colab": {
          "base_uri": "https://localhost:8080/",
          "height": 449
        },
        "id": "Q1kRgS2CHhoZ",
        "outputId": "be8e2745-9f5e-44ec-c955-4faaae0e005a"
      },
      "outputs": [
        {
          "output_type": "display_data",
          "data": {
            "text/plain": [
              "<Figure size 640x480 with 1 Axes>"
            ],
            "image/png": "[encoded data removed]"
          },
          "metadata": {}
        }
      ],
      "source": [
        "plt.plot(vf,abs(Xw).T)\n",
        "plt.xlabel('f[Hz]')\n",
        "plt.ylabel('|X(f)|')\n",
        "plt.show()"
      ]
    },
    {
      "cell_type": "markdown",
      "source": [
        "#Normalización de Espectros"
      ],
      "metadata": {
        "id": "qxfNX6g2oHDL"
      }
    },
    {
      "cell_type": "code",
      "execution_count": 106,
      "metadata": {
        "colab": {
          "base_uri": "https://localhost:8080/",
          "height": 881
        },
        "id": "AOL2MQXOHlfI",
        "outputId": "4f6a3c29-a170-4762-a81e-cee53f78363b"
      },
      "outputs": [
        {
          "output_type": "display_data",
          "data": {
            "text/plain": [
              "<Figure size 640x480 with 1 Axes>"
            ],
            "image/png": "[encoded data removed]"
          },
          "metadata": {}
        },
        {
          "output_type": "display_data",
          "data": {
            "text/plain": [
              "<Figure size 640x480 with 1 Axes>"
            ],
            "image/png": "[encoded data removed]"
          },
          "metadata": {}
        }
      ],
      "source": [
        "#se normalizan espectros entre 0 y 1 para evitar inconsistencias por ampliltudes máximas\n",
        "from sklearn.preprocessing import MinMaxScaler\n",
        "sca = MinMaxScaler()\n",
        "Xw_ = sca.fit_transform(abs(Xw).T).T\n",
        "\n",
        "plt.plot(vf,Xw_.T)\n",
        "plt.xlabel('f[Hz]')\n",
        "plt.ylabel('|X(f)|')\n",
        "plt.show()\n",
        "\n",
        "#en dB\n",
        "plt.plot(vf,(20*np.log10(Xw_+1e-10)).T) # se suma 1e-10 para evitar discontinuidad del log\n",
        "plt.xlabel('f[Hz]')\n",
        "plt.ylabel('|X(f)| dB')\n",
        "plt.show()"
      ]
    },
    {
      "cell_type": "markdown",
      "source": [
        "#Calculo de distancias de canciones de prueba con respecto a la base de datos"
      ],
      "metadata": {
        "id": "h1Co07peoNc0"
      }
    },
    {
      "cell_type": "code",
      "source": [
        "from scipy.spatial.distance import cdist\n",
        "\n",
        "distancias=cdist(base_datos,Xw_)\n",
        "print(\"Distancias: \",distancias)\n",
        "distancias.shape\n",
        "ind=np.argmin(distancias,axis=0)\n",
        "ind.shape\n",
        "print(\"indices: \",ind)\n",
        "canciones= base_datos[ind]\n",
        "print(\"canciones \",canciones)\n",
        "\n",
        "'''distances = []\n",
        "for canbd in canciones:\n",
        "  distances.append(np.linalg.norm(canbd - zt_m))\n",
        "  min_distance_index = np.argmin(distances)'''\n",
        "\n",
        "distancias=[]\n",
        "i=0\n",
        "for i in ind:#lectura audio .wav\n",
        "    x, fs = sf.read(path+name)\n",
        "    distancias.append(np.linalg.norm(i - zt_m))\n",
        "    min_distance_index = np.argmin(distancias)\n",
        "    print(f\"{i} lectura: {name}; segundo {ti}:{ti+ts}; tipo música {label[i]}\")\n",
        "    i+=1\n",
        "\n",
        "\n",
        "\n",
        "if min_distance_index < 10:\n",
        "  print('La cancion pertenece al genero de REGGAETON')\n",
        "else:\n",
        "  print('La cancion pertenece al genero de SALSA')\n",
        "print(f\"posicion {min_distance_index} \")\n",
        "#print('indices_canciones: ', min_distance_index)\n",
        "canciones.shape"
      ],
      "metadata": {
        "colab": {
          "base_uri": "https://localhost:8080/"
        },
        "id": "7Ysc_rcBngEz",
        "outputId": "76af337f-5e66-49f4-c590-2142075693e5"
      },
      "execution_count": 165,
      "outputs": [
        {
          "output_type": "stream",
          "name": "stdout",
          "text": [
            "Distancias:  [[ 8.76018487  9.2206754   8.45910356 ...  7.58426454  9.34324565\n",
            "   7.18474227]\n",
            " [ 9.08179856  9.74215553  8.87908657 ...  7.708127    9.2850389\n",
            "   8.14437553]\n",
            " [10.13246481 10.66953277  9.74752169 ...  9.63810285 10.54553626\n",
            "   9.82025977]\n",
            " ...\n",
            " [10.24529821 10.95764174 10.228964   ...  9.98138682 11.16139182\n",
            "  10.46089902]\n",
            " [ 7.91623114  8.87424479  7.82949542 ...  7.17262822  8.96196004\n",
            "   7.05822189]\n",
            " [ 8.6384434   9.3789219   8.46728323 ...  8.22290358  9.49056397\n",
            "   8.10990239]]\n",
            "indices:  [ 14  15  16  17  18  19  20  93  93  41  93  90  93 101  21  22  23  24\n",
            "  25  26  27]\n",
            "canciones  [[2.00405073e-03 3.25602029e-03 6.04600837e-03 ... 3.75693075e-05\n",
            "  3.76704099e-05 2.86973657e-05]\n",
            " [2.13906307e-02 2.09084161e-02 2.06629255e-02 ... 2.76809911e-05\n",
            "  5.32147271e-05 1.83036876e-05]\n",
            " [3.00792349e-03 3.50092023e-03 2.98021400e-03 ... 6.34159460e-05\n",
            "  7.17267410e-05 1.44173756e-05]\n",
            " ...\n",
            " [2.51995681e-03 3.74334207e-03 6.55003900e-03 ... 7.33135956e-05\n",
            "  7.57841303e-05 6.49276125e-05]\n",
            " [6.46727644e-03 1.00948695e-02 9.26878447e-03 ... 5.76641686e-05\n",
            "  6.44896569e-05 5.79649077e-05]\n",
            " [2.23622637e-03 4.08584685e-03 4.79848273e-03 ... 3.50087353e-05\n",
            "  3.07284706e-05 2.87386954e-05]]\n",
            "14 lectura: adolescents.wav; segundo 40:45; tipo música [0.]\n",
            "15 lectura: adolescents.wav; segundo 40:45; tipo música [0.]\n",
            "16 lectura: adolescents.wav; segundo 40:45; tipo música [0.]\n",
            "17 lectura: adolescents.wav; segundo 40:45; tipo música [0.]\n",
            "18 lectura: adolescents.wav; segundo 40:45; tipo música [0.]\n",
            "19 lectura: adolescents.wav; segundo 40:45; tipo música [0.]\n",
            "20 lectura: adolescents.wav; segundo 40:45; tipo música [0.]\n",
            "93 lectura: adolescents.wav; segundo 40:45; tipo música [0.]\n",
            "93 lectura: adolescents.wav; segundo 40:45; tipo música [0.]\n",
            "41 lectura: adolescents.wav; segundo 40:45; tipo música [0.]\n",
            "93 lectura: adolescents.wav; segundo 40:45; tipo música [0.]\n",
            "90 lectura: adolescents.wav; segundo 40:45; tipo música [0.]\n",
            "93 lectura: adolescents.wav; segundo 40:45; tipo música [0.]\n",
            "101 lectura: adolescents.wav; segundo 40:45; tipo música [0.]\n",
            "21 lectura: adolescents.wav; segundo 40:45; tipo música [0.]\n",
            "22 lectura: adolescents.wav; segundo 40:45; tipo música [0.]\n",
            "23 lectura: adolescents.wav; segundo 40:45; tipo música [0.]\n",
            "24 lectura: adolescents.wav; segundo 40:45; tipo música [0.]\n",
            "25 lectura: adolescents.wav; segundo 40:45; tipo música [0.]\n",
            "26 lectura: adolescents.wav; segundo 40:45; tipo música [0.]\n",
            "27 lectura: adolescents.wav; segundo 40:45; tipo música [0.]\n",
            "La cancion pertenece al genero de REGGAETON\n",
            "posicion 9 \n"
          ]
        },
        {
          "output_type": "execute_result",
          "data": {
            "text/plain": [
              "(21, 120001)"
            ]
          },
          "metadata": {},
          "execution_count": 165
        }
      ]
    }
  ],
  "metadata": {
    "colab": {
      "provenance": [],
      "include_colab_link": true
    },
    "kernelspec": {
      "display_name": "Python 3",
      "name": "python3"
    },
    "language_info": {
      "name": "python"
    }
  },
  "nbformat": 4,
  "nbformat_minor": 0
}